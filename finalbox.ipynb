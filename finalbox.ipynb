{
 "cells": [
  {
   "cell_type": "code",
   "execution_count": 1,
   "id": "6f7f6216-80ce-4976-8626-401357339ea8",
   "metadata": {},
   "outputs": [
    {
     "name": "stdout",
     "output_type": "stream",
     "text": [
      "Processo completato. I dati sono stati salvati in 'concatenated_nba_data.csv'.\n"
     ]
    }
   ],
   "source": [
    "import os\n",
    "import pandas as pd\n",
    "from datetime import datetime\n",
    "\n",
    "def process_files(folder_path):\n",
    "    # Step 1: Concatenare tutti i file CSV\n",
    "    all_files = [os.path.join(folder_path, f) for f in os.listdir(folder_path) if f.endswith('.csv')]\n",
    "    data_list = []\n",
    "\n",
    "    for file in all_files:\n",
    "        df = pd.read_csv(file, dtype=str)  # Leggere tutto come stringhe\n",
    "        data_list.append(df)\n",
    "\n",
    "    concatenated_data = pd.concat(data_list, ignore_index=True)\n",
    "\n",
    "    # Step 2: Conversione tipi di dati\n",
    "    # Convertire le date\n",
    "    concatenated_data['game_date'] = pd.to_datetime(concatenated_data['game_date'], errors='coerce')\n",
    "\n",
    "    # Convertire i minuti giocati ('mp') in un formato numerico (minuti decimali)\n",
    "    def convert_minutes(mp):\n",
    "        try:\n",
    "            minutes, seconds = map(int, mp.split(':'))\n",
    "            return minutes + seconds / 60\n",
    "        except:\n",
    "            return None\n",
    "\n",
    "    concatenated_data['mp'] = concatenated_data['mp'].apply(convert_minutes)\n",
    "\n",
    "    # Convertire le altre colonne numeriche\n",
    "    numeric_columns = ['PTS', 'REB', 'AST', 'STL', 'BLK', 'TO', 'FGA', 'FTA', 'FG_PCT', \n",
    "                       'team_score', 'opponent_score', 'TS%', 'TOV%']\n",
    "\n",
    "    for col in numeric_columns:\n",
    "        concatenated_data[col] = pd.to_numeric(concatenated_data[col], errors='coerce')\n",
    "\n",
    "    return concatenated_data\n",
    "\n",
    "# Specifica il percorso della cartella contenente i file\n",
    "folder_path = 'regular_season_games'\n",
    "\n",
    "# Esegui il processo\n",
    "data = process_files(folder_path)\n",
    "\n",
    "# Salva il file concatenato per ispezioni future\n",
    "data.to_csv('concatenated_nba_data.csv', index=False)\n",
    "\n",
    "print(\"Processo completato. I dati sono stati salvati in 'concatenated_nba_data.csv'.\")\n"
   ]
  },
  {
   "cell_type": "code",
   "execution_count": 2,
   "id": "d74b4890-5ac2-4ef4-bfd2-3c710a468669",
   "metadata": {},
   "outputs": [
    {
     "name": "stdout",
     "output_type": "stream",
     "text": [
      "Processo completato. I dati sono stati salvati in 'concatenated_nba_data.csv'.\n"
     ]
    }
   ],
   "source": [
    "# Specifica il percorso della cartella contenente i file\n",
    "folder_path = 'playoff_games'\n",
    "\n",
    "# Esegui il processo\n",
    "data = process_files(folder_path)\n",
    "\n",
    "# Salva il file concatenato per ispezioni future\n",
    "data.to_csv('concatenated_nba_data_playoff.csv', index=False)\n",
    "\n",
    "print(\"Processo completato. I dati sono stati salvati in 'concatenated_nba_data.csv'.\")\n"
   ]
  },
  {
   "cell_type": "code",
   "execution_count": 3,
   "id": "5240ee40-7627-4d63-9e80-dcb759a62907",
   "metadata": {},
   "outputs": [],
   "source": [
    "rs = pd.read_csv('concatenated_nba_data.csv')"
   ]
  },
  {
   "cell_type": "code",
   "execution_count": 4,
   "id": "536ade0b-6710-4795-960a-12c88d293254",
   "metadata": {},
   "outputs": [],
   "source": [
    "p = pd.read_csv('concatenated_nba_data_playoff.csv')"
   ]
  },
  {
   "cell_type": "code",
   "execution_count": 8,
   "id": "f311f1d2-eb53-4e2a-bddc-6c6d3c1b4153",
   "metadata": {},
   "outputs": [
    {
     "data": {
      "text/plain": [
       "player                    object\n",
       "team                      object\n",
       "mp                       float64\n",
       "PTS                      float64\n",
       "REB                      float64\n",
       "AST                      float64\n",
       "STL                      float64\n",
       "BLK                      float64\n",
       "TO                       float64\n",
       "FGA                      float64\n",
       "FTA                      float64\n",
       "FG_PCT                   float64\n",
       "game_date         datetime64[ns]\n",
       "team_score               float64\n",
       "opponent_score           float64\n",
       "TS%                      float64\n",
       "TOV%                     float64\n",
       "dtype: object"
      ]
     },
     "execution_count": 8,
     "metadata": {},
     "output_type": "execute_result"
    }
   ],
   "source": [
    "rs.dtypes"
   ]
  },
  {
   "cell_type": "code",
   "execution_count": 7,
   "id": "edb00966-a50a-4362-922e-12a3ea987802",
   "metadata": {},
   "outputs": [],
   "source": [
    "# Assumendo che 'df' sia il tuo DataFrame\n",
    "rs['game_date'] = pd.to_datetime(rs['game_date'], errors='coerce')"
   ]
  },
  {
   "cell_type": "code",
   "execution_count": 9,
   "id": "983d7f4f-81a7-4df0-ac98-913625b31471",
   "metadata": {},
   "outputs": [],
   "source": [
    "# Assumendo che 'df' sia il tuo DataFrame\n",
    "p['game_date'] = pd.to_datetime(p['game_date'], errors='coerce')"
   ]
  },
  {
   "cell_type": "code",
   "execution_count": 10,
   "id": "7cd876d3-fbe4-4403-8934-f4d8cdea555a",
   "metadata": {},
   "outputs": [
    {
     "data": {
      "text/html": [
       "<div>\n",
       "<style scoped>\n",
       "    .dataframe tbody tr th:only-of-type {\n",
       "        vertical-align: middle;\n",
       "    }\n",
       "\n",
       "    .dataframe tbody tr th {\n",
       "        vertical-align: top;\n",
       "    }\n",
       "\n",
       "    .dataframe thead th {\n",
       "        text-align: right;\n",
       "    }\n",
       "</style>\n",
       "<table border=\"1\" class=\"dataframe\">\n",
       "  <thead>\n",
       "    <tr style=\"text-align: right;\">\n",
       "      <th></th>\n",
       "      <th>player</th>\n",
       "      <th>team</th>\n",
       "      <th>mp</th>\n",
       "      <th>PTS</th>\n",
       "      <th>REB</th>\n",
       "      <th>AST</th>\n",
       "      <th>STL</th>\n",
       "      <th>BLK</th>\n",
       "      <th>TO</th>\n",
       "      <th>FGA</th>\n",
       "      <th>FTA</th>\n",
       "      <th>FG_PCT</th>\n",
       "      <th>game_date</th>\n",
       "      <th>team_score</th>\n",
       "      <th>opponent_score</th>\n",
       "      <th>TS%</th>\n",
       "      <th>TOV%</th>\n",
       "    </tr>\n",
       "  </thead>\n",
       "  <tbody>\n",
       "    <tr>\n",
       "      <th>0</th>\n",
       "      <td>Max Strus</td>\n",
       "      <td>CLE</td>\n",
       "      <td>28.283333</td>\n",
       "      <td>10.0</td>\n",
       "      <td>1.0</td>\n",
       "      <td>0.0</td>\n",
       "      <td>1.0</td>\n",
       "      <td>1.0</td>\n",
       "      <td>1.0</td>\n",
       "      <td>9.0</td>\n",
       "      <td>2.0</td>\n",
       "      <td>0.444</td>\n",
       "      <td>2023-11-03</td>\n",
       "      <td>116.0</td>\n",
       "      <td>121.0</td>\n",
       "      <td>0.506073</td>\n",
       "      <td>0.091912</td>\n",
       "    </tr>\n",
       "    <tr>\n",
       "      <th>1</th>\n",
       "      <td>Evan Mobley</td>\n",
       "      <td>CLE</td>\n",
       "      <td>35.850000</td>\n",
       "      <td>14.0</td>\n",
       "      <td>10.0</td>\n",
       "      <td>5.0</td>\n",
       "      <td>3.0</td>\n",
       "      <td>4.0</td>\n",
       "      <td>2.0</td>\n",
       "      <td>13.0</td>\n",
       "      <td>0.0</td>\n",
       "      <td>0.538</td>\n",
       "      <td>2023-11-03</td>\n",
       "      <td>116.0</td>\n",
       "      <td>121.0</td>\n",
       "      <td>0.538462</td>\n",
       "      <td>0.133333</td>\n",
       "    </tr>\n",
       "    <tr>\n",
       "      <th>2</th>\n",
       "      <td>Jarrett Allen</td>\n",
       "      <td>CLE</td>\n",
       "      <td>21.116667</td>\n",
       "      <td>10.0</td>\n",
       "      <td>7.0</td>\n",
       "      <td>0.0</td>\n",
       "      <td>1.0</td>\n",
       "      <td>2.0</td>\n",
       "      <td>1.0</td>\n",
       "      <td>6.0</td>\n",
       "      <td>3.0</td>\n",
       "      <td>0.667</td>\n",
       "      <td>2023-11-03</td>\n",
       "      <td>116.0</td>\n",
       "      <td>121.0</td>\n",
       "      <td>0.683060</td>\n",
       "      <td>0.120192</td>\n",
       "    </tr>\n",
       "    <tr>\n",
       "      <th>3</th>\n",
       "      <td>Donovan Mitchell</td>\n",
       "      <td>CLE</td>\n",
       "      <td>36.650000</td>\n",
       "      <td>38.0</td>\n",
       "      <td>5.0</td>\n",
       "      <td>9.0</td>\n",
       "      <td>1.0</td>\n",
       "      <td>0.0</td>\n",
       "      <td>3.0</td>\n",
       "      <td>21.0</td>\n",
       "      <td>10.0</td>\n",
       "      <td>0.619</td>\n",
       "      <td>2023-11-03</td>\n",
       "      <td>116.0</td>\n",
       "      <td>121.0</td>\n",
       "      <td>0.748031</td>\n",
       "      <td>0.105634</td>\n",
       "    </tr>\n",
       "    <tr>\n",
       "      <th>4</th>\n",
       "      <td>Darius Garland</td>\n",
       "      <td>CLE</td>\n",
       "      <td>31.983333</td>\n",
       "      <td>14.0</td>\n",
       "      <td>0.0</td>\n",
       "      <td>6.0</td>\n",
       "      <td>2.0</td>\n",
       "      <td>1.0</td>\n",
       "      <td>4.0</td>\n",
       "      <td>11.0</td>\n",
       "      <td>4.0</td>\n",
       "      <td>0.455</td>\n",
       "      <td>2023-11-03</td>\n",
       "      <td>116.0</td>\n",
       "      <td>121.0</td>\n",
       "      <td>0.548589</td>\n",
       "      <td>0.238663</td>\n",
       "    </tr>\n",
       "  </tbody>\n",
       "</table>\n",
       "</div>"
      ],
      "text/plain": [
       "             player team         mp   PTS   REB  AST  STL  BLK   TO   FGA  \\\n",
       "0         Max Strus  CLE  28.283333  10.0   1.0  0.0  1.0  1.0  1.0   9.0   \n",
       "1       Evan Mobley  CLE  35.850000  14.0  10.0  5.0  3.0  4.0  2.0  13.0   \n",
       "2     Jarrett Allen  CLE  21.116667  10.0   7.0  0.0  1.0  2.0  1.0   6.0   \n",
       "3  Donovan Mitchell  CLE  36.650000  38.0   5.0  9.0  1.0  0.0  3.0  21.0   \n",
       "4    Darius Garland  CLE  31.983333  14.0   0.0  6.0  2.0  1.0  4.0  11.0   \n",
       "\n",
       "    FTA  FG_PCT  game_date  team_score  opponent_score       TS%      TOV%  \n",
       "0   2.0   0.444 2023-11-03       116.0           121.0  0.506073  0.091912  \n",
       "1   0.0   0.538 2023-11-03       116.0           121.0  0.538462  0.133333  \n",
       "2   3.0   0.667 2023-11-03       116.0           121.0  0.683060  0.120192  \n",
       "3  10.0   0.619 2023-11-03       116.0           121.0  0.748031  0.105634  \n",
       "4   4.0   0.455 2023-11-03       116.0           121.0  0.548589  0.238663  "
      ]
     },
     "execution_count": 10,
     "metadata": {},
     "output_type": "execute_result"
    }
   ],
   "source": [
    "rs.head()"
   ]
  },
  {
   "cell_type": "code",
   "execution_count": 14,
   "id": "3bd2c680-288b-463d-9c56-cab48a5c30e4",
   "metadata": {},
   "outputs": [
    {
     "data": {
      "text/plain": [
       "1.0"
      ]
     },
     "execution_count": 14,
     "metadata": {},
     "output_type": "execute_result"
    }
   ],
   "source": [
    "rs['FG_PCT'].max()"
   ]
  },
  {
   "cell_type": "code",
   "execution_count": 15,
   "id": "5a5056bc-4307-4121-b552-c70dd968db80",
   "metadata": {},
   "outputs": [
    {
     "data": {
      "text/plain": [
       "1.0"
      ]
     },
     "execution_count": 15,
     "metadata": {},
     "output_type": "execute_result"
    }
   ],
   "source": [
    "p['FG_PCT'].max()"
   ]
  },
  {
   "cell_type": "code",
   "execution_count": 16,
   "id": "da92213b-52a4-4fbf-8fb7-d9fac5ffd479",
   "metadata": {},
   "outputs": [],
   "source": [
    "# Concatenare i dataset lungo le righe (default axis=0)\n",
    "df_concatenato = pd.concat([rs, p], axis=0)\n",
    "\n",
    "# Esportare il dataframe concatenato in un file CSV\n",
    "df_concatenato.to_csv('dataset_concatenato.csv', index=False)"
   ]
  },
  {
   "cell_type": "code",
   "execution_count": null,
   "id": "6b41b287-290d-4033-a2b4-82188b3d943d",
   "metadata": {},
   "outputs": [],
   "source": []
  }
 ],
 "metadata": {
  "kernelspec": {
   "display_name": "Python 3 (ipykernel)",
   "language": "python",
   "name": "python3"
  },
  "language_info": {
   "codemirror_mode": {
    "name": "ipython",
    "version": 3
   },
   "file_extension": ".py",
   "mimetype": "text/x-python",
   "name": "python",
   "nbconvert_exporter": "python",
   "pygments_lexer": "ipython3",
   "version": "3.11.7"
  }
 },
 "nbformat": 4,
 "nbformat_minor": 5
}
