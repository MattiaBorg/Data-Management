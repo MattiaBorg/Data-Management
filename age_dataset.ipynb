{
 "cells": [
  {
   "cell_type": "code",
   "execution_count": 118,
   "id": "dfe8f001-883b-45fe-9045-105f1d01d2d6",
   "metadata": {},
   "outputs": [],
   "source": [
    "import pandas as pd"
   ]
  },
  {
   "cell_type": "code",
   "execution_count": 209,
   "id": "dee93b33-3dd1-4663-8152-69700011beb4",
   "metadata": {},
   "outputs": [],
   "source": [
    "df = pd.read_csv(\"C:\\\\Users\\\\enric\\\\Downloads\\\\dataset_concatenato.csv\", low_memory = False)"
   ]
  },
  {
   "cell_type": "code",
   "execution_count": 210,
   "id": "cc42a033-47cd-46a5-a8c8-555c0bf277fc",
   "metadata": {},
   "outputs": [
    {
     "data": {
      "text/plain": [
       "Index(['player', 'team', 'mp', 'PTS', 'REB', 'AST', 'STL', 'BLK', 'TO', 'FGA',\n",
       "       'FTA', 'FG_PCT', 'game_date', 'team_score', 'opponent_score', 'TS%',\n",
       "       'TOV%', 'GAME_ID', 'TEAM_ID', 'TEAM_NAME', 'TEAM_ABBREVIATION',\n",
       "       'TEAM_CITY', 'MIN', 'FGM', 'FG3M', 'FG3A', 'FG3_PCT', 'FTM', 'FT_PCT',\n",
       "       'OREB', 'DREB', 'PF', 'PLUS_MINUS'],\n",
       "      dtype='object')"
      ]
     },
     "execution_count": 210,
     "metadata": {},
     "output_type": "execute_result"
    }
   ],
   "source": [
    "df.columns"
   ]
  },
  {
   "cell_type": "code",
   "execution_count": 211,
   "id": "9283996d-6ad7-4207-9417-84c104bd3488",
   "metadata": {},
   "outputs": [],
   "source": [
    "dfna = df.isna()"
   ]
  },
  {
   "cell_type": "code",
   "execution_count": 212,
   "id": "3b266a64-84a8-448c-85c6-a0a423e428ee",
   "metadata": {},
   "outputs": [
    {
     "data": {
      "text/plain": [
       "player                object\n",
       "team                  object\n",
       "mp                   float64\n",
       "PTS                  float64\n",
       "REB                  float64\n",
       "AST                  float64\n",
       "STL                  float64\n",
       "BLK                  float64\n",
       "TO                   float64\n",
       "FGA                  float64\n",
       "FTA                  float64\n",
       "FG_PCT               float64\n",
       "game_date             object\n",
       "team_score           float64\n",
       "opponent_score       float64\n",
       "TS%                  float64\n",
       "TOV%                 float64\n",
       "GAME_ID              float64\n",
       "TEAM_ID              float64\n",
       "TEAM_NAME             object\n",
       "TEAM_ABBREVIATION     object\n",
       "TEAM_CITY             object\n",
       "MIN                   object\n",
       "FGM                  float64\n",
       "FG3M                 float64\n",
       "FG3A                 float64\n",
       "FG3_PCT              float64\n",
       "FTM                  float64\n",
       "FT_PCT               float64\n",
       "OREB                 float64\n",
       "DREB                 float64\n",
       "PF                   float64\n",
       "PLUS_MINUS           float64\n",
       "dtype: object"
      ]
     },
     "execution_count": 212,
     "metadata": {},
     "output_type": "execute_result"
    }
   ],
   "source": [
    "df.dtypes"
   ]
  },
  {
   "cell_type": "code",
   "execution_count": 213,
   "id": "816368cb-3cef-42ff-a402-b4a356a088b9",
   "metadata": {},
   "outputs": [],
   "source": [
    "dfna = dfna[(dfna['GAME_ID'] == True) & (dfna['TEAM_ID'] == True) & (dfna['TEAM_NAME'] == True) & (dfna['TEAM_ABBREVIATION'] == True) & (dfna['TEAM_CITY'] == True) & (dfna['MIN'] == True) & (dfna['FGM'] == True) & (dfna['FG3M'] == True) & (dfna['FG3A'] == True) & (dfna['FG3_PCT'] == True) & (dfna['FTM'] == True) & (dfna['FT_PCT'] == True) & (dfna['OREB'] == True) & (dfna['DREB'] == True) & (dfna['PF'] == True) & (dfna['PLUS_MINUS'] == True)]"
   ]
  },
  {
   "cell_type": "code",
   "execution_count": 214,
   "id": "61cc46cd-3941-40b9-9adc-98ebd883c280",
   "metadata": {},
   "outputs": [
    {
     "data": {
      "text/plain": [
       "34598"
      ]
     },
     "execution_count": 214,
     "metadata": {},
     "output_type": "execute_result"
    }
   ],
   "source": [
    "len(dfna)"
   ]
  },
  {
   "cell_type": "code",
   "execution_count": 215,
   "id": "1ebea343-c82b-4a29-9adb-dd059d6802f1",
   "metadata": {},
   "outputs": [
    {
     "data": {
      "text/plain": [
       "34602"
      ]
     },
     "execution_count": 215,
     "metadata": {},
     "output_type": "execute_result"
    }
   ],
   "source": [
    "len(df)"
   ]
  },
  {
   "cell_type": "code",
   "execution_count": 216,
   "id": "9e61d836-9136-4133-913c-8a2d08416b08",
   "metadata": {},
   "outputs": [
    {
     "data": {
      "text/plain": [
       "1.0"
      ]
     },
     "execution_count": 216,
     "metadata": {},
     "output_type": "execute_result"
    }
   ],
   "source": [
    "df['FG_PCT'].max()"
   ]
  },
  {
   "cell_type": "code",
   "execution_count": 217,
   "id": "46df80be-54a5-4811-bd45-b45cc747dea6",
   "metadata": {},
   "outputs": [],
   "source": [
    "columns_to_drop = ['GAME_ID', 'TEAM_ID', 'TEAM_NAME', 'TEAM_ABBREVIATION', 'TEAM_CITY', 'MIN', 'FGM', 'FG3M', 'FG3A', 'FG3_PCT', 'FTM', 'FT_PCT', 'OREB', 'DREB', 'PF', 'PLUS_MINUS']"
   ]
  },
  {
   "cell_type": "code",
   "execution_count": 218,
   "id": "aa0d0806-d70a-497e-8901-0d5b2c75d97a",
   "metadata": {},
   "outputs": [],
   "source": [
    "df =  df.drop(columns = columns_to_drop)"
   ]
  },
  {
   "cell_type": "code",
   "execution_count": 219,
   "id": "2b400d54-6cb7-4bbd-ab1e-5cba5b13148f",
   "metadata": {},
   "outputs": [
    {
     "data": {
      "text/plain": [
       "Index(['player', 'team', 'mp', 'PTS', 'REB', 'AST', 'STL', 'BLK', 'TO', 'FGA',\n",
       "       'FTA', 'FG_PCT', 'game_date', 'team_score', 'opponent_score', 'TS%',\n",
       "       'TOV%'],\n",
       "      dtype='object')"
      ]
     },
     "execution_count": 219,
     "metadata": {},
     "output_type": "execute_result"
    }
   ],
   "source": [
    "df.columns"
   ]
  },
  {
   "cell_type": "code",
   "execution_count": 220,
   "id": "b4f0349d-2638-4100-b5bb-2ca8f6d84b32",
   "metadata": {},
   "outputs": [
    {
     "data": {
      "text/html": [
       "<div>\n",
       "<style scoped>\n",
       "    .dataframe tbody tr th:only-of-type {\n",
       "        vertical-align: middle;\n",
       "    }\n",
       "\n",
       "    .dataframe tbody tr th {\n",
       "        vertical-align: top;\n",
       "    }\n",
       "\n",
       "    .dataframe thead th {\n",
       "        text-align: right;\n",
       "    }\n",
       "</style>\n",
       "<table border=\"1\" class=\"dataframe\">\n",
       "  <thead>\n",
       "    <tr style=\"text-align: right;\">\n",
       "      <th></th>\n",
       "      <th>player</th>\n",
       "      <th>team</th>\n",
       "      <th>mp</th>\n",
       "      <th>PTS</th>\n",
       "      <th>REB</th>\n",
       "      <th>AST</th>\n",
       "      <th>STL</th>\n",
       "      <th>BLK</th>\n",
       "      <th>TO</th>\n",
       "      <th>FGA</th>\n",
       "      <th>FTA</th>\n",
       "      <th>FG_PCT</th>\n",
       "      <th>game_date</th>\n",
       "      <th>team_score</th>\n",
       "      <th>opponent_score</th>\n",
       "      <th>TS%</th>\n",
       "      <th>TOV%</th>\n",
       "    </tr>\n",
       "  </thead>\n",
       "  <tbody>\n",
       "    <tr>\n",
       "      <th>0</th>\n",
       "      <td>Max Strus</td>\n",
       "      <td>CLE</td>\n",
       "      <td>28.283333</td>\n",
       "      <td>10.0</td>\n",
       "      <td>1.0</td>\n",
       "      <td>0.0</td>\n",
       "      <td>1.0</td>\n",
       "      <td>1.0</td>\n",
       "      <td>1.0</td>\n",
       "      <td>9.0</td>\n",
       "      <td>2.0</td>\n",
       "      <td>0.444</td>\n",
       "      <td>2023-11-03</td>\n",
       "      <td>116.0</td>\n",
       "      <td>121.0</td>\n",
       "      <td>0.506073</td>\n",
       "      <td>0.091912</td>\n",
       "    </tr>\n",
       "    <tr>\n",
       "      <th>1</th>\n",
       "      <td>Evan Mobley</td>\n",
       "      <td>CLE</td>\n",
       "      <td>35.850000</td>\n",
       "      <td>14.0</td>\n",
       "      <td>10.0</td>\n",
       "      <td>5.0</td>\n",
       "      <td>3.0</td>\n",
       "      <td>4.0</td>\n",
       "      <td>2.0</td>\n",
       "      <td>13.0</td>\n",
       "      <td>0.0</td>\n",
       "      <td>0.538</td>\n",
       "      <td>2023-11-03</td>\n",
       "      <td>116.0</td>\n",
       "      <td>121.0</td>\n",
       "      <td>0.538462</td>\n",
       "      <td>0.133333</td>\n",
       "    </tr>\n",
       "    <tr>\n",
       "      <th>2</th>\n",
       "      <td>Jarrett Allen</td>\n",
       "      <td>CLE</td>\n",
       "      <td>21.116667</td>\n",
       "      <td>10.0</td>\n",
       "      <td>7.0</td>\n",
       "      <td>0.0</td>\n",
       "      <td>1.0</td>\n",
       "      <td>2.0</td>\n",
       "      <td>1.0</td>\n",
       "      <td>6.0</td>\n",
       "      <td>3.0</td>\n",
       "      <td>0.667</td>\n",
       "      <td>2023-11-03</td>\n",
       "      <td>116.0</td>\n",
       "      <td>121.0</td>\n",
       "      <td>0.683060</td>\n",
       "      <td>0.120192</td>\n",
       "    </tr>\n",
       "    <tr>\n",
       "      <th>3</th>\n",
       "      <td>Donovan Mitchell</td>\n",
       "      <td>CLE</td>\n",
       "      <td>36.650000</td>\n",
       "      <td>38.0</td>\n",
       "      <td>5.0</td>\n",
       "      <td>9.0</td>\n",
       "      <td>1.0</td>\n",
       "      <td>0.0</td>\n",
       "      <td>3.0</td>\n",
       "      <td>21.0</td>\n",
       "      <td>10.0</td>\n",
       "      <td>0.619</td>\n",
       "      <td>2023-11-03</td>\n",
       "      <td>116.0</td>\n",
       "      <td>121.0</td>\n",
       "      <td>0.748031</td>\n",
       "      <td>0.105634</td>\n",
       "    </tr>\n",
       "    <tr>\n",
       "      <th>4</th>\n",
       "      <td>Darius Garland</td>\n",
       "      <td>CLE</td>\n",
       "      <td>31.983333</td>\n",
       "      <td>14.0</td>\n",
       "      <td>0.0</td>\n",
       "      <td>6.0</td>\n",
       "      <td>2.0</td>\n",
       "      <td>1.0</td>\n",
       "      <td>4.0</td>\n",
       "      <td>11.0</td>\n",
       "      <td>4.0</td>\n",
       "      <td>0.455</td>\n",
       "      <td>2023-11-03</td>\n",
       "      <td>116.0</td>\n",
       "      <td>121.0</td>\n",
       "      <td>0.548589</td>\n",
       "      <td>0.238663</td>\n",
       "    </tr>\n",
       "  </tbody>\n",
       "</table>\n",
       "</div>"
      ],
      "text/plain": [
       "             player team         mp   PTS   REB  AST  STL  BLK   TO   FGA  \\\n",
       "0         Max Strus  CLE  28.283333  10.0   1.0  0.0  1.0  1.0  1.0   9.0   \n",
       "1       Evan Mobley  CLE  35.850000  14.0  10.0  5.0  3.0  4.0  2.0  13.0   \n",
       "2     Jarrett Allen  CLE  21.116667  10.0   7.0  0.0  1.0  2.0  1.0   6.0   \n",
       "3  Donovan Mitchell  CLE  36.650000  38.0   5.0  9.0  1.0  0.0  3.0  21.0   \n",
       "4    Darius Garland  CLE  31.983333  14.0   0.0  6.0  2.0  1.0  4.0  11.0   \n",
       "\n",
       "    FTA  FG_PCT   game_date  team_score  opponent_score       TS%      TOV%  \n",
       "0   2.0   0.444  2023-11-03       116.0           121.0  0.506073  0.091912  \n",
       "1   0.0   0.538  2023-11-03       116.0           121.0  0.538462  0.133333  \n",
       "2   3.0   0.667  2023-11-03       116.0           121.0  0.683060  0.120192  \n",
       "3  10.0   0.619  2023-11-03       116.0           121.0  0.748031  0.105634  \n",
       "4   4.0   0.455  2023-11-03       116.0           121.0  0.548589  0.238663  "
      ]
     },
     "execution_count": 220,
     "metadata": {},
     "output_type": "execute_result"
    }
   ],
   "source": [
    "df.head()"
   ]
  },
  {
   "cell_type": "code",
   "execution_count": 221,
   "id": "6386d2d2-81fc-41b0-bf0a-28991992d9d2",
   "metadata": {},
   "outputs": [],
   "source": [
    "sigle = df['team'].unique()"
   ]
  },
  {
   "cell_type": "code",
   "execution_count": 222,
   "id": "122087aa-0b36-4e03-8fa0-885b477dcf4f",
   "metadata": {},
   "outputs": [
    {
     "data": {
      "text/plain": [
       "array(['CLE', 'IND', 'NYK', 'MIL', 'WAS', 'MIA', 'BKN', 'CHI', 'GSW',\n",
       "       'OKC', 'DAL', 'DEN', 'MEM', 'POR', 'PHI', 'DET', 'CHA', 'BOS',\n",
       "       'NOP', 'HOU', 'UTA', 'MIN', 'SAS', 'LAC', 'LAL', 'PHX', 'SAC',\n",
       "       'ATL', 'ORL', 'TOR', nan], dtype=object)"
      ]
     },
     "execution_count": 222,
     "metadata": {},
     "output_type": "execute_result"
    }
   ],
   "source": [
    "sigle"
   ]
  },
  {
   "cell_type": "code",
   "execution_count": 223,
   "id": "f6798f84-697a-444a-91cb-8ed5c64c3d7a",
   "metadata": {},
   "outputs": [],
   "source": [
    "dfna = df.isna()"
   ]
  },
  {
   "cell_type": "code",
   "execution_count": 224,
   "id": "b3739fcd-1cb8-49b2-b171-1a02f1d37cf8",
   "metadata": {},
   "outputs": [
    {
     "data": {
      "text/html": [
       "<div>\n",
       "<style scoped>\n",
       "    .dataframe tbody tr th:only-of-type {\n",
       "        vertical-align: middle;\n",
       "    }\n",
       "\n",
       "    .dataframe tbody tr th {\n",
       "        vertical-align: top;\n",
       "    }\n",
       "\n",
       "    .dataframe thead th {\n",
       "        text-align: right;\n",
       "    }\n",
       "</style>\n",
       "<table border=\"1\" class=\"dataframe\">\n",
       "  <thead>\n",
       "    <tr style=\"text-align: right;\">\n",
       "      <th></th>\n",
       "      <th>player</th>\n",
       "      <th>team</th>\n",
       "      <th>mp</th>\n",
       "      <th>PTS</th>\n",
       "      <th>REB</th>\n",
       "      <th>AST</th>\n",
       "      <th>STL</th>\n",
       "      <th>BLK</th>\n",
       "      <th>TO</th>\n",
       "      <th>FGA</th>\n",
       "      <th>FTA</th>\n",
       "      <th>FG_PCT</th>\n",
       "      <th>game_date</th>\n",
       "      <th>team_score</th>\n",
       "      <th>opponent_score</th>\n",
       "      <th>TS%</th>\n",
       "      <th>TOV%</th>\n",
       "    </tr>\n",
       "  </thead>\n",
       "  <tbody>\n",
       "    <tr>\n",
       "      <th>32443</th>\n",
       "      <td>True</td>\n",
       "      <td>True</td>\n",
       "      <td>True</td>\n",
       "      <td>False</td>\n",
       "      <td>False</td>\n",
       "      <td>False</td>\n",
       "      <td>False</td>\n",
       "      <td>False</td>\n",
       "      <td>False</td>\n",
       "      <td>False</td>\n",
       "      <td>False</td>\n",
       "      <td>False</td>\n",
       "      <td>True</td>\n",
       "      <td>True</td>\n",
       "      <td>True</td>\n",
       "      <td>True</td>\n",
       "      <td>True</td>\n",
       "    </tr>\n",
       "    <tr>\n",
       "      <th>32444</th>\n",
       "      <td>True</td>\n",
       "      <td>True</td>\n",
       "      <td>True</td>\n",
       "      <td>False</td>\n",
       "      <td>False</td>\n",
       "      <td>False</td>\n",
       "      <td>False</td>\n",
       "      <td>False</td>\n",
       "      <td>False</td>\n",
       "      <td>False</td>\n",
       "      <td>False</td>\n",
       "      <td>False</td>\n",
       "      <td>True</td>\n",
       "      <td>True</td>\n",
       "      <td>True</td>\n",
       "      <td>True</td>\n",
       "      <td>True</td>\n",
       "    </tr>\n",
       "    <tr>\n",
       "      <th>32614</th>\n",
       "      <td>True</td>\n",
       "      <td>True</td>\n",
       "      <td>True</td>\n",
       "      <td>False</td>\n",
       "      <td>False</td>\n",
       "      <td>False</td>\n",
       "      <td>False</td>\n",
       "      <td>False</td>\n",
       "      <td>False</td>\n",
       "      <td>False</td>\n",
       "      <td>False</td>\n",
       "      <td>False</td>\n",
       "      <td>True</td>\n",
       "      <td>True</td>\n",
       "      <td>True</td>\n",
       "      <td>True</td>\n",
       "      <td>True</td>\n",
       "    </tr>\n",
       "    <tr>\n",
       "      <th>32615</th>\n",
       "      <td>True</td>\n",
       "      <td>True</td>\n",
       "      <td>True</td>\n",
       "      <td>False</td>\n",
       "      <td>False</td>\n",
       "      <td>False</td>\n",
       "      <td>False</td>\n",
       "      <td>False</td>\n",
       "      <td>False</td>\n",
       "      <td>False</td>\n",
       "      <td>False</td>\n",
       "      <td>False</td>\n",
       "      <td>True</td>\n",
       "      <td>True</td>\n",
       "      <td>True</td>\n",
       "      <td>True</td>\n",
       "      <td>True</td>\n",
       "    </tr>\n",
       "  </tbody>\n",
       "</table>\n",
       "</div>"
      ],
      "text/plain": [
       "       player  team    mp    PTS    REB    AST    STL    BLK     TO    FGA  \\\n",
       "32443    True  True  True  False  False  False  False  False  False  False   \n",
       "32444    True  True  True  False  False  False  False  False  False  False   \n",
       "32614    True  True  True  False  False  False  False  False  False  False   \n",
       "32615    True  True  True  False  False  False  False  False  False  False   \n",
       "\n",
       "         FTA  FG_PCT  game_date  team_score  opponent_score   TS%  TOV%  \n",
       "32443  False   False       True        True            True  True  True  \n",
       "32444  False   False       True        True            True  True  True  \n",
       "32614  False   False       True        True            True  True  True  \n",
       "32615  False   False       True        True            True  True  True  "
      ]
     },
     "execution_count": 224,
     "metadata": {},
     "output_type": "execute_result"
    }
   ],
   "source": [
    "dfna[dfna['team'] == True]"
   ]
  },
  {
   "cell_type": "code",
   "execution_count": 225,
   "id": "187e94fc-0f5c-4321-8464-969e5f24120c",
   "metadata": {},
   "outputs": [],
   "source": [
    "df = df.drop(index=[32443, 32444, 32614, 32615])"
   ]
  },
  {
   "cell_type": "code",
   "execution_count": 226,
   "id": "d8393aa3-bfe9-4957-aee5-8ceb20ca1a94",
   "metadata": {},
   "outputs": [],
   "source": [
    "sigle = df['team'].unique()"
   ]
  },
  {
   "cell_type": "code",
   "execution_count": 227,
   "id": "c399879f-12df-42a1-8550-5b4e1d827c8b",
   "metadata": {},
   "outputs": [
    {
     "data": {
      "text/plain": [
       "array(['CLE', 'IND', 'NYK', 'MIL', 'WAS', 'MIA', 'BKN', 'CHI', 'GSW',\n",
       "       'OKC', 'DAL', 'DEN', 'MEM', 'POR', 'PHI', 'DET', 'CHA', 'BOS',\n",
       "       'NOP', 'HOU', 'UTA', 'MIN', 'SAS', 'LAC', 'LAL', 'PHX', 'SAC',\n",
       "       'ATL', 'ORL', 'TOR'], dtype=object)"
      ]
     },
     "execution_count": 227,
     "metadata": {},
     "output_type": "execute_result"
    }
   ],
   "source": [
    "sigle"
   ]
  },
  {
   "cell_type": "code",
   "execution_count": 228,
   "id": "c078eb57-98d5-457f-992c-cb418c9d53f6",
   "metadata": {},
   "outputs": [],
   "source": [
    "infortuni = pd.read_csv(\"C:\\\\Users\\\\enric\\\\OneDrive\\\\Desktop\\\\UNI\\\\Data Management Lab\\\\basketball_transactions.csv\")"
   ]
  },
  {
   "cell_type": "code",
   "execution_count": 229,
   "id": "ddb96039-d04d-46d2-86ab-78179bdee783",
   "metadata": {},
   "outputs": [
    {
     "data": {
      "text/html": [
       "<div>\n",
       "<style scoped>\n",
       "    .dataframe tbody tr th:only-of-type {\n",
       "        vertical-align: middle;\n",
       "    }\n",
       "\n",
       "    .dataframe tbody tr th {\n",
       "        vertical-align: top;\n",
       "    }\n",
       "\n",
       "    .dataframe thead th {\n",
       "        text-align: right;\n",
       "    }\n",
       "</style>\n",
       "<table border=\"1\" class=\"dataframe\">\n",
       "  <thead>\n",
       "    <tr style=\"text-align: right;\">\n",
       "      <th></th>\n",
       "      <th>Date</th>\n",
       "      <th>Team</th>\n",
       "      <th>Acquired</th>\n",
       "      <th>Relinquished</th>\n",
       "      <th>Notes</th>\n",
       "    </tr>\n",
       "  </thead>\n",
       "  <tbody>\n",
       "    <tr>\n",
       "      <th>0</th>\n",
       "      <td>2023-04-29</td>\n",
       "      <td>Warriors</td>\n",
       "      <td>NaN</td>\n",
       "      <td>• Patrick Baldwin Jr.</td>\n",
       "      <td>placed on IL with toe injury</td>\n",
       "    </tr>\n",
       "    <tr>\n",
       "      <th>1</th>\n",
       "      <td>2023-04-30</td>\n",
       "      <td>76ers</td>\n",
       "      <td>• Danuel House Jr.</td>\n",
       "      <td>NaN</td>\n",
       "      <td>activated from IL</td>\n",
       "    </tr>\n",
       "    <tr>\n",
       "      <th>2</th>\n",
       "      <td>2023-05-02</td>\n",
       "      <td>Heat</td>\n",
       "      <td>NaN</td>\n",
       "      <td>• Jimmy Butler</td>\n",
       "      <td>placed on IL with sprained right ankle</td>\n",
       "    </tr>\n",
       "    <tr>\n",
       "      <th>3</th>\n",
       "      <td>2023-05-03</td>\n",
       "      <td>76ers</td>\n",
       "      <td>• Joel Embiid</td>\n",
       "      <td>NaN</td>\n",
       "      <td>activated from IL</td>\n",
       "    </tr>\n",
       "    <tr>\n",
       "      <th>4</th>\n",
       "      <td>2023-05-05</td>\n",
       "      <td>Celtics</td>\n",
       "      <td>NaN</td>\n",
       "      <td>• Blake Griffin</td>\n",
       "      <td>placed on IL with sore lower back</td>\n",
       "    </tr>\n",
       "  </tbody>\n",
       "</table>\n",
       "</div>"
      ],
      "text/plain": [
       "         Date      Team            Acquired           Relinquished  \\\n",
       "0  2023-04-29  Warriors                 NaN  • Patrick Baldwin Jr.   \n",
       "1  2023-04-30     76ers  • Danuel House Jr.                    NaN   \n",
       "2  2023-05-02      Heat                 NaN         • Jimmy Butler   \n",
       "3  2023-05-03     76ers       • Joel Embiid                    NaN   \n",
       "4  2023-05-05   Celtics                 NaN        • Blake Griffin   \n",
       "\n",
       "                                    Notes  \n",
       "0            placed on IL with toe injury  \n",
       "1                       activated from IL  \n",
       "2  placed on IL with sprained right ankle  \n",
       "3                       activated from IL  \n",
       "4       placed on IL with sore lower back  "
      ]
     },
     "execution_count": 229,
     "metadata": {},
     "output_type": "execute_result"
    }
   ],
   "source": [
    "infortuni.head()"
   ]
  },
  {
   "cell_type": "code",
   "execution_count": 230,
   "id": "268c34b1-6411-4e95-93df-da7cd761d7dc",
   "metadata": {},
   "outputs": [],
   "source": [
    "squadre = infortuni['Team'].unique()"
   ]
  },
  {
   "cell_type": "code",
   "execution_count": 231,
   "id": "f2506a02-1dea-4664-b74a-57564dd256ea",
   "metadata": {},
   "outputs": [
    {
     "data": {
      "text/plain": [
       "array(['Warriors', '76ers', 'Heat', 'Celtics', 'Knicks', 'Bulls', 'Suns',\n",
       "       'Pelicans', 'Hornets', 'Grizzlies', 'Rockets', 'Cavaliers',\n",
       "       'Clippers', 'Kings', 'Pistons', 'Thunder', 'Timberwolves',\n",
       "       'Wizards', 'Blazers', 'Hawks', 'Nets', 'Bucks', 'Raptors',\n",
       "       'Lakers', 'Mavericks', 'Pacers', 'Spurs', 'Magic', 'Nuggets',\n",
       "       'Jazz'], dtype=object)"
      ]
     },
     "execution_count": 231,
     "metadata": {},
     "output_type": "execute_result"
    }
   ],
   "source": [
    "squadre"
   ]
  },
  {
   "cell_type": "code",
   "execution_count": 232,
   "id": "9b458be6-f9ae-4465-a92b-88ef00cbde81",
   "metadata": {},
   "outputs": [
    {
     "data": {
      "text/plain": [
       "array(['CLE', 'IND', 'NYK', 'MIL', 'WAS', 'MIA', 'BKN', 'CHI', 'GSW',\n",
       "       'OKC', 'DAL', 'DEN', 'MEM', 'POR', 'PHI', 'DET', 'CHA', 'BOS',\n",
       "       'NOP', 'HOU', 'UTA', 'MIN', 'SAS', 'LAC', 'LAL', 'PHX', 'SAC',\n",
       "       'ATL', 'ORL', 'TOR'], dtype=object)"
      ]
     },
     "execution_count": 232,
     "metadata": {},
     "output_type": "execute_result"
    }
   ],
   "source": [
    "sigle"
   ]
  },
  {
   "cell_type": "code",
   "execution_count": 233,
   "id": "4a24aeed-8b35-449d-b92f-ba1fc464dfb7",
   "metadata": {},
   "outputs": [],
   "source": [
    "sigla_to_nome = {\n",
    "    'CLE': 'Cavaliers',\n",
    "    'IND': 'Pacers',\n",
    "    'NYK': 'Knicks',\n",
    "    'MIL': 'Bucks',\n",
    "    'WAS': 'Wizards',\n",
    "    'MIA': 'Heat',\n",
    "    'BKN': 'Nets',\n",
    "    'CHI': 'Bulls',\n",
    "    'GSW': 'Warriors',\n",
    "    'OKC': 'Thunder',\n",
    "    'DAL': 'Mavericks',\n",
    "    'DEN': 'Nuggets',\n",
    "    'MEM': 'Grizzlies',\n",
    "    'POR': 'Blazers',\n",
    "    'PHI': '76ers',\n",
    "    'DET': 'Pistons',\n",
    "    'CHA': 'Hornets',\n",
    "    'BOS': 'Celtics',\n",
    "    'NOP': 'Pelicans',\n",
    "    'HOU': 'Rockets',\n",
    "    'UTA': 'Jazz',\n",
    "    'MIN': 'Timberwolves',\n",
    "    'SAS': 'Spurs',\n",
    "    'LAC': 'Clippers',\n",
    "    'LAL': 'Lakers',\n",
    "    'PHX': 'Suns',\n",
    "    'SAC': 'Kings',\n",
    "    'ATL': 'Hawks',\n",
    "    'ORL': 'Magic',\n",
    "    'TOR': 'Raptors'\n",
    "}\n",
    "\n",
    "df['team'] = df['team'].map(sigla_to_nome)"
   ]
  },
  {
   "cell_type": "code",
   "execution_count": 234,
   "id": "956031ee-4054-4688-b990-29a83f5b4531",
   "metadata": {},
   "outputs": [
    {
     "data": {
      "text/plain": [
       "array(['Cavaliers', 'Pacers', 'Knicks', 'Bucks', 'Wizards', 'Heat',\n",
       "       'Nets', 'Bulls', 'Warriors', 'Thunder', 'Mavericks', 'Nuggets',\n",
       "       'Grizzlies', 'Blazers', '76ers', 'Pistons', 'Hornets', 'Celtics',\n",
       "       'Pelicans', 'Rockets', 'Jazz', 'Timberwolves', 'Spurs', 'Clippers',\n",
       "       'Lakers', 'Suns', 'Kings', 'Hawks', 'Magic', 'Raptors'],\n",
       "      dtype=object)"
      ]
     },
     "execution_count": 234,
     "metadata": {},
     "output_type": "execute_result"
    }
   ],
   "source": [
    "df['team'].unique()"
   ]
  },
  {
   "cell_type": "code",
   "execution_count": 235,
   "id": "5a923c66-ddcf-4342-b9aa-cf3d5f08faaa",
   "metadata": {},
   "outputs": [
    {
     "data": {
      "text/plain": [
       "587"
      ]
     },
     "execution_count": 235,
     "metadata": {},
     "output_type": "execute_result"
    }
   ],
   "source": [
    "len(df['player'].unique())"
   ]
  },
  {
   "cell_type": "code",
   "execution_count": 236,
   "id": "85523b8d-0cd4-4a6b-8dd4-b86f3f25ca46",
   "metadata": {},
   "outputs": [],
   "source": [
    "df.to_csv('dataset_completo.csv', index=False)"
   ]
  },
  {
   "cell_type": "code",
   "execution_count": 105,
   "id": "494386c2-0e53-4c9c-adff-c454e158f31e",
   "metadata": {},
   "outputs": [
    {
     "name": "stdout",
     "output_type": "stream",
     "text": [
      "Defaulting to user installation because normal site-packages is not writeable\n",
      "Requirement already satisfied: requests in c:\\programdata\\anaconda3\\lib\\site-packages (2.31.0)\n",
      "Requirement already satisfied: beautifulsoup4 in c:\\programdata\\anaconda3\\lib\\site-packages (4.12.2)\n",
      "Requirement already satisfied: pandas in c:\\users\\enric\\appdata\\roaming\\python\\python311\\site-packages (2.2.3)\n",
      "Requirement already satisfied: charset-normalizer<4,>=2 in c:\\programdata\\anaconda3\\lib\\site-packages (from requests) (2.0.4)\n",
      "Requirement already satisfied: idna<4,>=2.5 in c:\\programdata\\anaconda3\\lib\\site-packages (from requests) (3.4)\n",
      "Requirement already satisfied: urllib3<3,>=1.21.1 in c:\\programdata\\anaconda3\\lib\\site-packages (from requests) (2.0.7)\n",
      "Requirement already satisfied: certifi>=2017.4.17 in c:\\programdata\\anaconda3\\lib\\site-packages (from requests) (2024.2.2)\n",
      "Requirement already satisfied: soupsieve>1.2 in c:\\programdata\\anaconda3\\lib\\site-packages (from beautifulsoup4) (2.5)\n",
      "Requirement already satisfied: numpy>=1.23.2 in c:\\users\\enric\\appdata\\roaming\\python\\python311\\site-packages (from pandas) (1.26.4)\n",
      "Requirement already satisfied: python-dateutil>=2.8.2 in c:\\programdata\\anaconda3\\lib\\site-packages (from pandas) (2.8.2)\n",
      "Requirement already satisfied: pytz>=2020.1 in c:\\programdata\\anaconda3\\lib\\site-packages (from pandas) (2023.3.post1)\n",
      "Requirement already satisfied: tzdata>=2022.7 in c:\\programdata\\anaconda3\\lib\\site-packages (from pandas) (2023.3)\n",
      "Requirement already satisfied: six>=1.5 in c:\\programdata\\anaconda3\\lib\\site-packages (from python-dateutil>=2.8.2->pandas) (1.16.0)\n"
     ]
    }
   ],
   "source": [
    "!pip install requests beautifulsoup4 pandas"
   ]
  },
  {
   "cell_type": "code",
   "execution_count": 167,
   "id": "aa7275cb-a5a7-4640-b837-cf6ab83772cb",
   "metadata": {},
   "outputs": [
    {
     "name": "stdout",
     "output_type": "stream",
     "text": [
      "Scraping completato! Dati salvati in 'NBA_2023_2024_players_age.csv'\n"
     ]
    }
   ],
   "source": [
    "import requests\n",
    "from bs4 import BeautifulSoup\n",
    "import pandas as pd\n",
    "\n",
    "# URL della pagina da cui fare scraping\n",
    "url = \"https://www.basketball-reference.com/leagues/NBA_2024_totals.html\"\n",
    "\n",
    "# Scarica il contenuto della pagina\n",
    "response = requests.get(url)\n",
    "soup = BeautifulSoup(response.content, 'html.parser')\n",
    "\n",
    "# Trova la tabella\n",
    "table = soup.find('table', {'id': 'totals_stats'})\n",
    "\n",
    "# Inizializza liste per salvare i dati\n",
    "names = []\n",
    "ages = []\n",
    "\n",
    "# Estrai tutte le righe della tabella\n",
    "rows = table.find_all('tr')\n",
    "\n",
    "# Itera sulle righe a partire dalla seconda (escludendo l'intestazione)\n",
    "for row in rows[1:]:\n",
    "    cells = row.find_all('td')  # Trova tutte le celle della riga\n",
    "    if cells:\n",
    "        name = cells[0].text  # Prima cella (Nome del giocatore)\n",
    "        age = cells[1].text   # Seconda cella (Età del giocatore)\n",
    "        names.append(name)\n",
    "        ages.append(age)\n",
    "\n",
    "# Crea un DataFrame con i dati estratti\n",
    "data1 = pd.DataFrame({'Nome': names, 'Età': ages})\n",
    "\n",
    "# Salva il DataFrame in un file CSV\n",
    "data1.to_csv(\"NBA_2023_2024_players_age.csv\", index=False)\n",
    "\n",
    "print(\"Scraping completato! Dati salvati in 'NBA_2023_2024_players_age.csv'\")"
   ]
  },
  {
   "cell_type": "code",
   "execution_count": 179,
   "id": "943ef495-9e0f-4fd3-a1de-912fa3b0b65d",
   "metadata": {},
   "outputs": [
    {
     "name": "stdout",
     "output_type": "stream",
     "text": [
      "Defaulting to user installation because normal site-packages is not writeable\n",
      "Collecting nba_api\n",
      "  Downloading nba_api-1.6.1-py3-none-any.whl.metadata (5.5 kB)\n",
      "Requirement already satisfied: numpy<2.0.0,>=1.22.2 in c:\\users\\enric\\appdata\\roaming\\python\\python311\\site-packages (from nba_api) (1.26.4)\n",
      "Collecting requests<3.0.0,>=2.32.3 (from nba_api)\n",
      "  Downloading requests-2.32.3-py3-none-any.whl.metadata (4.6 kB)\n",
      "Requirement already satisfied: charset-normalizer<4,>=2 in c:\\programdata\\anaconda3\\lib\\site-packages (from requests<3.0.0,>=2.32.3->nba_api) (2.0.4)\n",
      "Requirement already satisfied: idna<4,>=2.5 in c:\\programdata\\anaconda3\\lib\\site-packages (from requests<3.0.0,>=2.32.3->nba_api) (3.4)\n",
      "Requirement already satisfied: urllib3<3,>=1.21.1 in c:\\programdata\\anaconda3\\lib\\site-packages (from requests<3.0.0,>=2.32.3->nba_api) (2.0.7)\n",
      "Requirement already satisfied: certifi>=2017.4.17 in c:\\programdata\\anaconda3\\lib\\site-packages (from requests<3.0.0,>=2.32.3->nba_api) (2024.2.2)\n",
      "Downloading nba_api-1.6.1-py3-none-any.whl (279 kB)\n",
      "   ---------------------------------------- 0.0/279.4 kB ? eta -:--:--\n",
      "   - -------------------------------------- 10.2/279.4 kB ? eta -:--:--\n",
      "   ----------------- ---------------------- 122.9/279.4 kB 1.8 MB/s eta 0:00:01\n",
      "   ---------------------------------------- 279.4/279.4 kB 2.2 MB/s eta 0:00:00\n",
      "Downloading requests-2.32.3-py3-none-any.whl (64 kB)\n",
      "   ---------------------------------------- 0.0/64.9 kB ? eta -:--:--\n",
      "   ---------------------------------------- 64.9/64.9 kB 1.7 MB/s eta 0:00:00\n",
      "Installing collected packages: requests, nba_api\n",
      "Successfully installed nba_api-1.6.1 requests-2.32.3\n"
     ]
    },
    {
     "name": "stderr",
     "output_type": "stream",
     "text": [
      "ERROR: pip's dependency resolver does not currently take into account all the packages that are installed. This behaviour is the source of the following dependency conflicts.\n",
      "conda-repo-cli 1.0.75 requires requests_mock, which is not installed.\n",
      "conda-repo-cli 1.0.75 requires clyent==1.2.1, but you have clyent 1.2.2 which is incompatible.\n",
      "conda-repo-cli 1.0.75 requires requests==2.31.0, but you have requests 2.32.3 which is incompatible.\n"
     ]
    }
   ],
   "source": [
    "!pip install nba_api"
   ]
  },
   "source": [
    "import requests\n",
    "from bs4 import BeautifulSoup\n",
    "import pandas as pd\n",
    "\n",
    "# URL della pagina da cui fare scraping\n",
    "url = \"https://www.basketball-reference.com/leagues/NBA_2024_totals.html\"\n",
    "\n",
    "# Scarica il contenuto della pagina\n",
    "response = requests.get(url)\n",
    "soup = BeautifulSoup(response.content, 'html.parser')\n",
    "\n",
    "# Trova la tabella\n",
    "table = soup.find('table', {'id': 'totals_stats'})\n",
    "\n",
    "# Inizializza liste per salvare i dati\n",
    "names = []\n",
    "ages = []\n",
    "\n",
    "# Estrai tutte le righe della tabella\n",
    "rows = table.find('tbody').find_all('tr', class_=lambda x: x != 'thead')\n",
    "\n",
    "# Itera sulle righe della tabella\n",
    "for row in rows:\n",
    "    cells = row.find_all('td')  # Trova tutte le celle della riga\n",
    "    if cells:\n",
    "        name = cells[0].text  # Nome del giocatore\n",
    "        age = cells[1].text   # Età del giocatore\n",
    "        names.append(name)\n",
    "        ages.append(age)\n",
    "\n",
    "# Crea un DataFrame con i dati estratti\n",
    "data2 = pd.DataFrame({'Nome': names, 'Età': ages})\n",
    "\n",
    "# Salva il DataFrame in un file CSV\n",
    "data2.to_csv(\"NBA_2023_2024_po_players_age.csv\", index=False)\n",
    "\n",
    "print(\"Scraping completato! Dati salvati in 'NBA_2023_2024_po_players_age.csv'\")"
   ]
  },
  {
   "cell_type": "code",
   "execution_count": 203,
   "id": "4820abda-da98-4b10-bc9c-011c368888a1",
   "metadata": {},
   "outputs": [],
   "source": [
    "rs = pd.read_csv('NBA_2023_2024_players_age.csv')"
   ]
  },
  {
   "cell_type": "code",
   "execution_count": 208,
   "id": "7c2de861-30f0-4617-9ee8-e9d67fcbf1ad",
   "metadata": {},
   "outputs": [
    {
     "data": {
      "text/html": [
       "<div>\n",
       "<style scoped>\n",
       "    .dataframe tbody tr th:only-of-type {\n",
       "        vertical-align: middle;\n",
       "    }\n",
       "\n",
       "    .dataframe tbody tr th {\n",
       "        vertical-align: top;\n",
       "    }\n",
       "\n",
       "    .dataframe thead th {\n",
       "        text-align: right;\n",
       "    }\n",
       "</style>\n",
       "<table border=\"1\" class=\"dataframe\">\n",
       "  <thead>\n",
       "    <tr style=\"text-align: right;\">\n",
       "      <th></th>\n",
       "      <th>Nome</th>\n",
       "      <th>Età</th>\n",
       "    </tr>\n",
       "  </thead>\n",
       "  <tbody>\n",
       "    <tr>\n",
       "      <th>0</th>\n",
       "      <td>Luka Dončić</td>\n",
       "      <td>24.0</td>\n",
       "    </tr>\n",
       "    <tr>\n",
       "      <th>1</th>\n",
       "      <td>Shai Gilgeous-Alexander</td>\n",
       "      <td>25.0</td>\n",
       "    </tr>\n",
       "    <tr>\n",
       "      <th>2</th>\n",
       "      <td>Giannis Antetokounmpo</td>\n",
       "      <td>29.0</td>\n",
       "    </tr>\n",
       "    <tr>\n",
       "      <th>3</th>\n",
       "      <td>Jalen Brunson</td>\n",
       "      <td>27.0</td>\n",
       "    </tr>\n",
       "    <tr>\n",
       "      <th>4</th>\n",
       "      <td>Nikola Jokić</td>\n",
       "      <td>28.0</td>\n",
       "    </tr>\n",
       "    <tr>\n",
       "      <th>...</th>\n",
       "      <td>...</td>\n",
       "      <td>...</td>\n",
       "    </tr>\n",
       "    <tr>\n",
       "      <th>731</th>\n",
       "      <td>Ron Harper Jr.</td>\n",
       "      <td>23.0</td>\n",
       "    </tr>\n",
       "    <tr>\n",
       "      <th>732</th>\n",
       "      <td>Justin Jackson</td>\n",
       "      <td>28.0</td>\n",
       "    </tr>\n",
       "    <tr>\n",
       "      <th>733</th>\n",
       "      <td>Dmytro Skapintsev</td>\n",
       "      <td>25.0</td>\n",
       "    </tr>\n",
       "    <tr>\n",
       "      <th>734</th>\n",
       "      <td>Javonte Smart</td>\n",
       "      <td>24.0</td>\n",
       "    </tr>\n",
       "    <tr>\n",
       "      <th>735</th>\n",
       "      <td>League Average</td>\n",
       "      <td>NaN</td>\n",
       "    </tr>\n",
       "  </tbody>\n",
       "</table>\n",
       "<p>573 rows × 2 columns</p>\n",
       "</div>"
      ],
      "text/plain": [
       "                        Nome   Età\n",
       "0                Luka Dončić  24.0\n",
       "1    Shai Gilgeous-Alexander  25.0\n",
       "2      Giannis Antetokounmpo  29.0\n",
       "3              Jalen Brunson  27.0\n",
       "4               Nikola Jokić  28.0\n",
       "..                       ...   ...\n",
       "731           Ron Harper Jr.  23.0\n",
       "732           Justin Jackson  28.0\n",
       "733        Dmytro Skapintsev  25.0\n",
       "734            Javonte Smart  24.0\n",
       "735           League Average   NaN\n",
       "\n",
       "[573 rows x 2 columns]"
      ]
     },
     "execution_count": 208,
     "metadata": {},
     "output_type": "execute_result"
    }
   ],
   "source": [
    "rs"
   ]
  },
  {
   "cell_type": "code",
   "execution_count": 201,
   "id": "4c67a514-ab12-4b7c-a447-144e9e3b2b76",
   "metadata": {},
   "outputs": [
    {
     "data": {
      "text/plain": [
       "571"
      ]
     },
     "execution_count": 201,
     "metadata": {},
     "output_type": "execute_result"
    }
   ],
   "source": [
    "len(rs['Nome'].unique())"
   ]
  },
  {
   "cell_type": "code",
   "execution_count": 204,
   "id": "fdd358f2-5693-4ed3-8d1a-f1b45bf5a8b6",
   "metadata": {},
   "outputs": [
    {
     "data": {
      "text/plain": [
       "array([24., 25., 29., 27., 28., 22., 35., 26., 34., 30., 39., 23., 21.,\n",
       "       33., 32., 20., 31., 36., 19., 37., 38., nan])"
      ]
     },
     "execution_count": 204,
     "metadata": {},
     "output_type": "execute_result"
    }
   ],
   "source": [
    "rs['Età'].unique()"
   ]
  },
  {
   "cell_type": "code",
   "execution_count": 200,
   "id": "1d6945dd-7bcf-4917-904f-2a15dfdf7b76",
   "metadata": {},
   "outputs": [],
   "source": [
    "rs = rs.drop(index=572)"
   ]
  },
  {
   "cell_type": "code",
   "execution_count": 205,
   "id": "b5737ce4-8f88-4380-b967-d6665371aeed",
   "metadata": {},
   "outputs": [],
   "source": [
    "rs = rs.drop_duplicates()"
   ]
  },
  {
   "cell_type": "code",
   "execution_count": 206,
   "id": "288547c8-966b-4789-995b-8740c018b511",
   "metadata": {},
   "outputs": [
    {
     "data": {
      "text/plain": [
       "573"
      ]
     },
     "execution_count": 206,
     "metadata": {},
     "output_type": "execute_result"
    }
   ],
   "source": [
    "len(rs)"
   ]
  },
  {
   "cell_type": "code",
   "execution_count": 153,
   "id": "8a067014-0929-4d17-a6c4-efb7a676ce18",
   "metadata": {},
   "outputs": [
    {
     "data": {
      "text/plain": [
       "Index(['player', 'team', 'mp', 'PTS', 'REB', 'AST', 'STL', 'BLK', 'TO', 'FGA',\n",
       "       'FTA', 'FG_PCT', 'game_date', 'team_score', 'opponent_score', 'TS%',\n",
       "       'TOV%'],\n",
       "      dtype='object')"
      ]
     },
     "execution_count": 153,
     "metadata": {},
     "output_type": "execute_result"
    }
   ],
   "source": [
    "df.columns"
   ]
  },
  {
   "cell_type": "code",
   "execution_count": 261,
   "id": "12f12ebf-a719-48a1-80e8-26934c18e5d2",
   "metadata": {},
   "outputs": [],
   "source": [
    "df_completo = pd.merge(df, rs, left_on='player', right_on='Nome', how = 'left')"
   ]
  },
  {
   "cell_type": "code",
   "execution_count": 262,
   "id": "453905ba-b5a6-464e-bcfa-2941ef366922",
   "metadata": {},
   "outputs": [
    {
     "data": {
      "text/html": [
       "<div>\n",
       "<style scoped>\n",
       "    .dataframe tbody tr th:only-of-type {\n",
       "        vertical-align: middle;\n",
       "    }\n",
       "\n",
       "    .dataframe tbody tr th {\n",
       "        vertical-align: top;\n",
       "    }\n",
       "\n",
       "    .dataframe thead th {\n",
       "        text-align: right;\n",
       "    }\n",
       "</style>\n",
       "<table border=\"1\" class=\"dataframe\">\n",
       "  <thead>\n",
       "    <tr style=\"text-align: right;\">\n",
       "      <th></th>\n",
       "      <th>player</th>\n",
       "      <th>team</th>\n",
       "      <th>mp</th>\n",
       "      <th>PTS</th>\n",
       "      <th>REB</th>\n",
       "      <th>AST</th>\n",
       "      <th>STL</th>\n",
       "      <th>BLK</th>\n",
       "      <th>TO</th>\n",
       "      <th>FGA</th>\n",
       "      <th>FTA</th>\n",
       "      <th>FG_PCT</th>\n",
       "      <th>game_date</th>\n",
       "      <th>team_score</th>\n",
       "      <th>opponent_score</th>\n",
       "      <th>TS%</th>\n",
       "      <th>TOV%</th>\n",
       "      <th>Nome</th>\n",
       "      <th>Età</th>\n",
       "    </tr>\n",
       "  </thead>\n",
       "  <tbody>\n",
       "    <tr>\n",
       "      <th>0</th>\n",
       "      <td>Max Strus</td>\n",
       "      <td>Cavaliers</td>\n",
       "      <td>28.283333</td>\n",
       "      <td>10.0</td>\n",
       "      <td>1.0</td>\n",
       "      <td>0.0</td>\n",
       "      <td>1.0</td>\n",
       "      <td>1.0</td>\n",
       "      <td>1.0</td>\n",
       "      <td>9.0</td>\n",
       "      <td>2.0</td>\n",
       "      <td>0.444</td>\n",
       "      <td>2023-11-03</td>\n",
       "      <td>116.0</td>\n",
       "      <td>121.0</td>\n",
       "      <td>0.506073</td>\n",
       "      <td>0.091912</td>\n",
       "      <td>Max Strus</td>\n",
       "      <td>27.0</td>\n",
       "    </tr>\n",
       "    <tr>\n",
       "      <th>1</th>\n",
       "      <td>Evan Mobley</td>\n",
       "      <td>Cavaliers</td>\n",
       "      <td>35.850000</td>\n",
       "      <td>14.0</td>\n",
       "      <td>10.0</td>\n",
       "      <td>5.0</td>\n",
       "      <td>3.0</td>\n",
       "      <td>4.0</td>\n",
       "      <td>2.0</td>\n",
       "      <td>13.0</td>\n",
       "      <td>0.0</td>\n",
       "      <td>0.538</td>\n",
       "      <td>2023-11-03</td>\n",
       "      <td>116.0</td>\n",
       "      <td>121.0</td>\n",
       "      <td>0.538462</td>\n",
       "      <td>0.133333</td>\n",
       "      <td>Evan Mobley</td>\n",
       "      <td>22.0</td>\n",
       "    </tr>\n",
       "    <tr>\n",
       "      <th>2</th>\n",
       "      <td>Jarrett Allen</td>\n",
       "      <td>Cavaliers</td>\n",
       "      <td>21.116667</td>\n",
       "      <td>10.0</td>\n",
       "      <td>7.0</td>\n",
       "      <td>0.0</td>\n",
       "      <td>1.0</td>\n",
       "      <td>2.0</td>\n",
       "      <td>1.0</td>\n",
       "      <td>6.0</td>\n",
       "      <td>3.0</td>\n",
       "      <td>0.667</td>\n",
       "      <td>2023-11-03</td>\n",
       "      <td>116.0</td>\n",
       "      <td>121.0</td>\n",
       "      <td>0.683060</td>\n",
       "      <td>0.120192</td>\n",
       "      <td>Jarrett Allen</td>\n",
       "      <td>25.0</td>\n",
       "    </tr>\n",
       "    <tr>\n",
       "      <th>3</th>\n",
       "      <td>Donovan Mitchell</td>\n",
       "      <td>Cavaliers</td>\n",
       "      <td>36.650000</td>\n",
       "      <td>38.0</td>\n",
       "      <td>5.0</td>\n",
       "      <td>9.0</td>\n",
       "      <td>1.0</td>\n",
       "      <td>0.0</td>\n",
       "      <td>3.0</td>\n",
       "      <td>21.0</td>\n",
       "      <td>10.0</td>\n",
       "      <td>0.619</td>\n",
       "      <td>2023-11-03</td>\n",
       "      <td>116.0</td>\n",
       "      <td>121.0</td>\n",
       "      <td>0.748031</td>\n",
       "      <td>0.105634</td>\n",
       "      <td>Donovan Mitchell</td>\n",
       "      <td>27.0</td>\n",
       "    </tr>\n",
       "    <tr>\n",
       "      <th>4</th>\n",
       "      <td>Darius Garland</td>\n",
       "      <td>Cavaliers</td>\n",
       "      <td>31.983333</td>\n",
       "      <td>14.0</td>\n",
       "      <td>0.0</td>\n",
       "      <td>6.0</td>\n",
       "      <td>2.0</td>\n",
       "      <td>1.0</td>\n",
       "      <td>4.0</td>\n",
       "      <td>11.0</td>\n",
       "      <td>4.0</td>\n",
       "      <td>0.455</td>\n",
       "      <td>2023-11-03</td>\n",
       "      <td>116.0</td>\n",
       "      <td>121.0</td>\n",
       "      <td>0.548589</td>\n",
       "      <td>0.238663</td>\n",
       "      <td>Darius Garland</td>\n",
       "      <td>24.0</td>\n",
       "    </tr>\n",
       "    <tr>\n",
       "      <th>...</th>\n",
       "      <td>...</td>\n",
       "      <td>...</td>\n",
       "      <td>...</td>\n",
       "      <td>...</td>\n",
       "      <td>...</td>\n",
       "      <td>...</td>\n",
       "      <td>...</td>\n",
       "      <td>...</td>\n",
       "      <td>...</td>\n",
       "      <td>...</td>\n",
       "      <td>...</td>\n",
       "      <td>...</td>\n",
       "      <td>...</td>\n",
       "      <td>...</td>\n",
       "      <td>...</td>\n",
       "      <td>...</td>\n",
       "      <td>...</td>\n",
       "      <td>...</td>\n",
       "      <td>...</td>\n",
       "    </tr>\n",
       "    <tr>\n",
       "      <th>34593</th>\n",
       "      <td>Svi Mykhailiuk</td>\n",
       "      <td>Celtics</td>\n",
       "      <td>0.650000</td>\n",
       "      <td>0.0</td>\n",
       "      <td>1.0</td>\n",
       "      <td>0.0</td>\n",
       "      <td>0.0</td>\n",
       "      <td>0.0</td>\n",
       "      <td>0.0</td>\n",
       "      <td>0.0</td>\n",
       "      <td>0.0</td>\n",
       "      <td>0.000</td>\n",
       "      <td>2024-06-17</td>\n",
       "      <td>106.0</td>\n",
       "      <td>88.0</td>\n",
       "      <td>NaN</td>\n",
       "      <td>NaN</td>\n",
       "      <td>Svi Mykhailiuk</td>\n",
       "      <td>26.0</td>\n",
       "    </tr>\n",
       "    <tr>\n",
       "      <th>34594</th>\n",
       "      <td>Neemias Queta</td>\n",
       "      <td>Celtics</td>\n",
       "      <td>NaN</td>\n",
       "      <td>NaN</td>\n",
       "      <td>NaN</td>\n",
       "      <td>NaN</td>\n",
       "      <td>NaN</td>\n",
       "      <td>NaN</td>\n",
       "      <td>NaN</td>\n",
       "      <td>NaN</td>\n",
       "      <td>NaN</td>\n",
       "      <td>NaN</td>\n",
       "      <td>2024-06-17</td>\n",
       "      <td>106.0</td>\n",
       "      <td>88.0</td>\n",
       "      <td>NaN</td>\n",
       "      <td>NaN</td>\n",
       "      <td>Neemias Queta</td>\n",
       "      <td>24.0</td>\n",
       "    </tr>\n",
       "    <tr>\n",
       "      <th>34595</th>\n",
       "      <td>Jaden Springer</td>\n",
       "      <td>Celtics</td>\n",
       "      <td>NaN</td>\n",
       "      <td>NaN</td>\n",
       "      <td>NaN</td>\n",
       "      <td>NaN</td>\n",
       "      <td>NaN</td>\n",
       "      <td>NaN</td>\n",
       "      <td>NaN</td>\n",
       "      <td>NaN</td>\n",
       "      <td>NaN</td>\n",
       "      <td>NaN</td>\n",
       "      <td>2024-06-17</td>\n",
       "      <td>106.0</td>\n",
       "      <td>88.0</td>\n",
       "      <td>NaN</td>\n",
       "      <td>NaN</td>\n",
       "      <td>Jaden Springer</td>\n",
       "      <td>21.0</td>\n",
       "    </tr>\n",
       "    <tr>\n",
       "      <th>34596</th>\n",
       "      <td>Xavier Tillman</td>\n",
       "      <td>Celtics</td>\n",
       "      <td>NaN</td>\n",
       "      <td>NaN</td>\n",
       "      <td>NaN</td>\n",
       "      <td>NaN</td>\n",
       "      <td>NaN</td>\n",
       "      <td>NaN</td>\n",
       "      <td>NaN</td>\n",
       "      <td>NaN</td>\n",
       "      <td>NaN</td>\n",
       "      <td>NaN</td>\n",
       "      <td>2024-06-17</td>\n",
       "      <td>106.0</td>\n",
       "      <td>88.0</td>\n",
       "      <td>NaN</td>\n",
       "      <td>NaN</td>\n",
       "      <td>NaN</td>\n",
       "      <td>NaN</td>\n",
       "    </tr>\n",
       "    <tr>\n",
       "      <th>34597</th>\n",
       "      <td>Jordan Walsh</td>\n",
       "      <td>Celtics</td>\n",
       "      <td>NaN</td>\n",
       "      <td>NaN</td>\n",
       "      <td>NaN</td>\n",
       "      <td>NaN</td>\n",
       "      <td>NaN</td>\n",
       "      <td>NaN</td>\n",
       "      <td>NaN</td>\n",
       "      <td>NaN</td>\n",
       "      <td>NaN</td>\n",
       "      <td>NaN</td>\n",
       "      <td>2024-06-17</td>\n",
       "      <td>106.0</td>\n",
       "      <td>88.0</td>\n",
       "      <td>NaN</td>\n",
       "      <td>NaN</td>\n",
       "      <td>Jordan Walsh</td>\n",
       "      <td>19.0</td>\n",
       "    </tr>\n",
       "  </tbody>\n",
       "</table>\n",
       "<p>34598 rows × 19 columns</p>\n",
       "</div>"
      ],
      "text/plain": [
       "                 player       team         mp   PTS   REB  AST  STL  BLK   TO  \\\n",
       "0             Max Strus  Cavaliers  28.283333  10.0   1.0  0.0  1.0  1.0  1.0   \n",
       "1           Evan Mobley  Cavaliers  35.850000  14.0  10.0  5.0  3.0  4.0  2.0   \n",
       "2         Jarrett Allen  Cavaliers  21.116667  10.0   7.0  0.0  1.0  2.0  1.0   \n",
       "3      Donovan Mitchell  Cavaliers  36.650000  38.0   5.0  9.0  1.0  0.0  3.0   \n",
       "4        Darius Garland  Cavaliers  31.983333  14.0   0.0  6.0  2.0  1.0  4.0   \n",
       "...                 ...        ...        ...   ...   ...  ...  ...  ...  ...   \n",
       "34593    Svi Mykhailiuk    Celtics   0.650000   0.0   1.0  0.0  0.0  0.0  0.0   \n",
       "34594     Neemias Queta    Celtics        NaN   NaN   NaN  NaN  NaN  NaN  NaN   \n",
       "34595    Jaden Springer    Celtics        NaN   NaN   NaN  NaN  NaN  NaN  NaN   \n",
       "34596    Xavier Tillman    Celtics        NaN   NaN   NaN  NaN  NaN  NaN  NaN   \n",
       "34597      Jordan Walsh    Celtics        NaN   NaN   NaN  NaN  NaN  NaN  NaN   \n",
       "\n",
       "        FGA   FTA  FG_PCT   game_date  team_score  opponent_score       TS%  \\\n",
       "0       9.0   2.0   0.444  2023-11-03       116.0           121.0  0.506073   \n",
       "1      13.0   0.0   0.538  2023-11-03       116.0           121.0  0.538462   \n",
       "2       6.0   3.0   0.667  2023-11-03       116.0           121.0  0.683060   \n",
       "3      21.0  10.0   0.619  2023-11-03       116.0           121.0  0.748031   \n",
       "4      11.0   4.0   0.455  2023-11-03       116.0           121.0  0.548589   \n",
       "...     ...   ...     ...         ...         ...             ...       ...   \n",
       "34593   0.0   0.0   0.000  2024-06-17       106.0            88.0       NaN   \n",
       "34594   NaN   NaN     NaN  2024-06-17       106.0            88.0       NaN   \n",
       "34595   NaN   NaN     NaN  2024-06-17       106.0            88.0       NaN   \n",
       "34596   NaN   NaN     NaN  2024-06-17       106.0            88.0       NaN   \n",
       "34597   NaN   NaN     NaN  2024-06-17       106.0            88.0       NaN   \n",
       "\n",
       "           TOV%              Nome   Età  \n",
       "0      0.091912         Max Strus  27.0  \n",
       "1      0.133333       Evan Mobley  22.0  \n",
       "2      0.120192     Jarrett Allen  25.0  \n",
       "3      0.105634  Donovan Mitchell  27.0  \n",
       "4      0.238663    Darius Garland  24.0  \n",
       "...         ...               ...   ...  \n",
       "34593       NaN    Svi Mykhailiuk  26.0  \n",
       "34594       NaN     Neemias Queta  24.0  \n",
       "34595       NaN    Jaden Springer  21.0  \n",
       "34596       NaN               NaN   NaN  \n",
       "34597       NaN      Jordan Walsh  19.0  \n",
       "\n",
       "[34598 rows x 19 columns]"
      ]
     },
     "execution_count": 262,
     "metadata": {},
     "output_type": "execute_result"
    }
   ],
   "source": [
    "df_completo"
   ]
  },
  {
   "cell_type": "code",
   "execution_count": 264,
   "id": "6d12b795-4e12-4c5c-b119-85f7f07930bd",
   "metadata": {},
   "outputs": [],
   "source": [
    "missing_età = df_completo[df_completo['Età'].isna() == True]['player'].unique()"
   ]
  },
  {
   "cell_type": "code",
   "execution_count": 251,
   "id": "9073bbe0-b7e0-4d66-af4a-792a5eccb031",
   "metadata": {},
   "outputs": [],
   "source": [
    "età = [24, 25, 30, 28, 24, 26, 34, 24, 23, 32, 24, 23, 21, 23, 21, 24, 24, 18, 20, 22, 26, 21, 23, 23, 31, 23, 28, 28, 23, 23, 27, 24, 22, 20, 26, 22, 23, 19]"
   ]
  },
  {
   "cell_type": "code",
   "execution_count": 252,
   "id": "125059b5-3627-4436-b42d-756274060799",
   "metadata": {},
   "outputs": [
    {
     "data": {
      "text/plain": [
       "38"
      ]
     },
     "execution_count": 252,
     "metadata": {},
     "output_type": "execute_result"
    }
   ],
   "source": [
    "len(età)"
   ]
  },
  {
   "cell_type": "code",
   "execution_count": 256,
   "id": "33c23768-9258-447c-869a-2d65a176a7c5",
   "metadata": {},
   "outputs": [
    {
     "data": {
      "text/plain": [
       "array(['AJ Green', 'Harry Giles III', 'Davis Bertans', 'Danté Exum',\n",
       "       'Xavier Tillman', 'Robert Williams III', 'Marcus Morris Sr.',\n",
       "       'Kevin Knox II', 'Theo Maledon', 'Reggie Bullock Jr.',\n",
       "       'Nate Williams', 'Luka Samanic', 'Moussa Diabate',\n",
       "       'Filip Petrusev', 'Charles Bediako', \"Sir'Jabari Rice\",\n",
       "       'Jermaine Samuels Jr.', 'GG Jackson', 'John Butler Jr.',\n",
       "       'Lester Quinones', 'Lonzo Ball', 'Brandon Boston', 'Miles Norris',\n",
       "       'Vít Krejčí', 'Victor Oladipo', 'Trey Jemison III', 'Monté Morris',\n",
       "       'Malcolm Hill', 'Matt Hurt', 'Duane Washington Jr.',\n",
       "       'Justise Winslow', 'Zhaire Smith', 'Sharife Cooper',\n",
       "       'Jaylin Galloway', 'Jeff Dowtin Jr.', 'Kai Jones',\n",
       "       'Maozinha Pereira', 'Jaylen Martin'], dtype=object)"
      ]
     },
     "execution_count": 256,
     "metadata": {},
     "output_type": "execute_result"
    }
   ],
   "source": [
    "missing_età"
   ]
  },
  {
   "cell_type": "code",
   "execution_count": 263,
   "id": "8220ec8b-3357-44ec-9d45-fea1e9438df8",
   "metadata": {},
   "outputs": [
    {
     "name": "stdout",
     "output_type": "stream",
     "text": [
      "                 player       team         mp   PTS   REB  AST  STL  BLK   TO  \\\n",
      "0             Max Strus  Cavaliers  28.283333  10.0   1.0  0.0  1.0  1.0  1.0   \n",
      "1           Evan Mobley  Cavaliers  35.850000  14.0  10.0  5.0  3.0  4.0  2.0   \n",
      "2         Jarrett Allen  Cavaliers  21.116667  10.0   7.0  0.0  1.0  2.0  1.0   \n",
      "3      Donovan Mitchell  Cavaliers  36.650000  38.0   5.0  9.0  1.0  0.0  3.0   \n",
      "4        Darius Garland  Cavaliers  31.983333  14.0   0.0  6.0  2.0  1.0  4.0   \n",
      "...                 ...        ...        ...   ...   ...  ...  ...  ...  ...   \n",
      "34593    Svi Mykhailiuk    Celtics   0.650000   0.0   1.0  0.0  0.0  0.0  0.0   \n",
      "34594     Neemias Queta    Celtics        NaN   NaN   NaN  NaN  NaN  NaN  NaN   \n",
      "34595    Jaden Springer    Celtics        NaN   NaN   NaN  NaN  NaN  NaN  NaN   \n",
      "34596    Xavier Tillman    Celtics        NaN   NaN   NaN  NaN  NaN  NaN  NaN   \n",
      "34597      Jordan Walsh    Celtics        NaN   NaN   NaN  NaN  NaN  NaN  NaN   \n",
      "\n",
      "        FGA   FTA  FG_PCT   game_date  team_score  opponent_score       TS%  \\\n",
      "0       9.0   2.0   0.444  2023-11-03       116.0           121.0  0.506073   \n",
      "1      13.0   0.0   0.538  2023-11-03       116.0           121.0  0.538462   \n",
      "2       6.0   3.0   0.667  2023-11-03       116.0           121.0  0.683060   \n",
      "3      21.0  10.0   0.619  2023-11-03       116.0           121.0  0.748031   \n",
      "4      11.0   4.0   0.455  2023-11-03       116.0           121.0  0.548589   \n",
      "...     ...   ...     ...         ...         ...             ...       ...   \n",
      "34593   0.0   0.0   0.000  2024-06-17       106.0            88.0       NaN   \n",
      "34594   NaN   NaN     NaN  2024-06-17       106.0            88.0       NaN   \n",
      "34595   NaN   NaN     NaN  2024-06-17       106.0            88.0       NaN   \n",
      "34596   NaN   NaN     NaN  2024-06-17       106.0            88.0       NaN   \n",
      "34597   NaN   NaN     NaN  2024-06-17       106.0            88.0       NaN   \n",
      "\n",
      "           TOV%              Nome   Età  \n",
      "0      0.091912         Max Strus  27.0  \n",
      "1      0.133333       Evan Mobley  22.0  \n",
      "2      0.120192     Jarrett Allen  25.0  \n",
      "3      0.105634  Donovan Mitchell  27.0  \n",
      "4      0.238663    Darius Garland  24.0  \n",
      "...         ...               ...   ...  \n",
      "34593       NaN    Svi Mykhailiuk  26.0  \n",
      "34594       NaN     Neemias Queta  24.0  \n",
      "34595       NaN    Jaden Springer  21.0  \n",
      "34596       NaN               NaN  24.0  \n",
      "34597       NaN      Jordan Walsh  19.0  \n",
      "\n",
      "[34598 rows x 19 columns]\n"
     ]
    }
   ],
   "source": [
    "import pandas as pd\n",
    "import numpy as np\n",
    "\n",
    "# I tuoi dati\n",
    "array = np.array(['AJ Green', 'Harry Giles III', 'Davis Bertans', 'Danté Exum',\n",
    "       'Xavier Tillman', 'Robert Williams III', 'Marcus Morris Sr.',\n",
    "       'Kevin Knox II', 'Theo Maledon', 'Reggie Bullock Jr.',\n",
    "       'Nate Williams', 'Luka Samanic', 'Moussa Diabate',\n",
    "       'Filip Petrusev', 'Charles Bediako', \"Sir'Jabari Rice\",\n",
    "       'Jermaine Samuels Jr.', 'GG Jackson', 'John Butler Jr.',\n",
    "       'Lester Quinones', 'Lonzo Ball', 'Brandon Boston', 'Miles Norris',\n",
    "       'Vít Krejčí', 'Victor Oladipo', 'Trey Jemison III', 'Monté Morris',\n",
    "       'Malcolm Hill', 'Matt Hurt', 'Duane Washington Jr.',\n",
    "       'Justise Winslow', 'Zhaire Smith', 'Sharife Cooper',\n",
    "       'Jaylin Galloway', 'Jeff Dowtin Jr.', 'Kai Jones',\n",
    "       'Maozinha Pereira', 'Jaylen Martin'])\n",
    "\n",
    "età = [24, 25, 30, 28, 24, 26, 34, 24, 23, 32, 24, 23, 21, 23, 21, 24, 24, 18, 20, 22, 26, 21, 23, 23, 31, 23, 28, 28, 23, 23, 27, 24, 22, 20, 26, 22, 23, 19]\n",
    "\n",
    "# Accoppiare nomi ed età in un dizionario\n",
    "player_age_dict = dict(zip(array, età))\n",
    "\n",
    "# Supponiamo che il tuo DataFrame completo sia chiamato df_completo\n",
    "# Aggiungere la colonna \"Età\" solo dove manca (NaN) utilizzando il dizionario\n",
    "df_completo['Età'] = df_completo['Età'].where(df_completo['Età'].notna(), df_completo['player'].map(player_age_dict))\n",
    "\n",
    "# Visualizzare il DataFrame risultante\n",
    "print(df_completo)\n"
   ]
  },
  {
   "cell_type": "code",
   "execution_count": 265,
   "id": "eb2088c5-f234-46dc-b0f7-463fb1d35b3f",
   "metadata": {},
   "outputs": [
    {
     "data": {
      "text/plain": [
       "array([], dtype=object)"
      ]
     },
     "execution_count": 265,
     "metadata": {},
     "output_type": "execute_result"
    }
   ],
   "source": [
    "missing_età"
   ]
  },
  {
   "cell_type": "code",
   "execution_count": 266,
   "id": "ac9b8529-f997-44ee-9053-54ebea511d02",
   "metadata": {},
   "outputs": [],
   "source": [
    "# Esportare il DataFrame come CSV\n",
    "df_completo.to_csv('NBA_players_dataset.csv', index=False)"
   ]
  },
  {
   "cell_type": "code",
   "execution_count": null,
   "id": "af554791-d2c1-400b-8506-988b48d53f30",
   "metadata": {},
   "outputs": [],
   "source": []
  }
 ],
 "metadata": {
  "kernelspec": {
   "display_name": "Python 3 (ipykernel)",
   "language": "python",
   "name": "python3"
  },
  "language_info": {
   "codemirror_mode": {
    "name": "ipython",
    "version": 3
   },
   "file_extension": ".py",
   "mimetype": "text/x-python",
   "name": "python",
   "nbconvert_exporter": "python",
   "pygments_lexer": "ipython3",
   "version": "3.11.7"
  }
 },
 "nbformat": 4,
 "nbformat_minor": 5
}
