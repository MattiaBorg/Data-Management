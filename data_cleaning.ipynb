{
 "cells": [
  {
   "cell_type": "code",
   "execution_count": 66,
   "id": "dfe8f001-883b-45fe-9045-105f1d01d2d6",
   "metadata": {},
   "outputs": [],
   "source": [
    "import pandas as pd"
   ]
  },
  {
   "cell_type": "code",
   "execution_count": 67,
   "id": "dee93b33-3dd1-4663-8152-69700011beb4",
   "metadata": {},
   "outputs": [],
   "source": [
    "df = pd.read_csv(\"C:\\\\Users\\\\enric\\\\Downloads\\\\dataset_concatenato.csv\", low_memory = False)"
   ]
  },
  {
   "cell_type": "code",
   "execution_count": 68,
   "id": "cc42a033-47cd-46a5-a8c8-555c0bf277fc",
   "metadata": {},
   "outputs": [
    {
     "data": {
      "text/plain": [
       "Index(['player', 'team', 'mp', 'PTS', 'REB', 'AST', 'STL', 'BLK', 'TO', 'FGA',\n",
       "       'FTA', 'FG_PCT', 'game_date', 'team_score', 'opponent_score', 'TS%',\n",
       "       'TOV%', 'GAME_ID', 'TEAM_ID', 'TEAM_NAME', 'TEAM_ABBREVIATION',\n",
       "       'TEAM_CITY', 'MIN', 'FGM', 'FG3M', 'FG3A', 'FG3_PCT', 'FTM', 'FT_PCT',\n",
       "       'OREB', 'DREB', 'PF', 'PLUS_MINUS'],\n",
       "      dtype='object')"
      ]
     },
     "execution_count": 68,
     "metadata": {},
     "output_type": "execute_result"
    }
   ],
   "source": [
    "df.columns"
   ]
  },
  {
   "cell_type": "code",
   "execution_count": 69,
   "id": "9283996d-6ad7-4207-9417-84c104bd3488",
   "metadata": {},
   "outputs": [],
   "source": [
    "dfna = df.isna()"
   ]
  },
  {
   "cell_type": "code",
   "execution_count": 70,
   "id": "3b266a64-84a8-448c-85c6-a0a423e428ee",
   "metadata": {},
   "outputs": [
    {
     "data": {
      "text/plain": [
       "player                object\n",
       "team                  object\n",
       "mp                   float64\n",
       "PTS                  float64\n",
       "REB                  float64\n",
       "AST                  float64\n",
       "STL                  float64\n",
       "BLK                  float64\n",
       "TO                   float64\n",
       "FGA                  float64\n",
       "FTA                  float64\n",
       "FG_PCT               float64\n",
       "game_date             object\n",
       "team_score           float64\n",
       "opponent_score       float64\n",
       "TS%                  float64\n",
       "TOV%                 float64\n",
       "GAME_ID              float64\n",
       "TEAM_ID              float64\n",
       "TEAM_NAME             object\n",
       "TEAM_ABBREVIATION     object\n",
       "TEAM_CITY             object\n",
       "MIN                   object\n",
       "FGM                  float64\n",
       "FG3M                 float64\n",
       "FG3A                 float64\n",
       "FG3_PCT              float64\n",
       "FTM                  float64\n",
       "FT_PCT               float64\n",
       "OREB                 float64\n",
       "DREB                 float64\n",
       "PF                   float64\n",
       "PLUS_MINUS           float64\n",
       "dtype: object"
      ]
     },
     "execution_count": 70,
     "metadata": {},
     "output_type": "execute_result"
    }
   ],
   "source": [
    "df.dtypes"
   ]
  },
  {
   "cell_type": "code",
   "execution_count": 71,
   "id": "816368cb-3cef-42ff-a402-b4a356a088b9",
   "metadata": {},
   "outputs": [],
   "source": [
    "dfna = dfna[(dfna['GAME_ID'] == True) & (dfna['TEAM_ID'] == True) & (dfna['TEAM_NAME'] == True) & (dfna['TEAM_ABBREVIATION'] == True) & (dfna['TEAM_CITY'] == True) & (dfna['MIN'] == True) & (dfna['FGM'] == True) & (dfna['FG3M'] == True) & (dfna['FG3A'] == True) & (dfna['FG3_PCT'] == True) & (dfna['FTM'] == True) & (dfna['FT_PCT'] == True) & (dfna['OREB'] == True) & (dfna['DREB'] == True) & (dfna['PF'] == True) & (dfna['PLUS_MINUS'] == True)]"
   ]
  },
  {
   "cell_type": "code",
   "execution_count": 72,
   "id": "61cc46cd-3941-40b9-9adc-98ebd883c280",
   "metadata": {},
   "outputs": [
    {
     "data": {
      "text/plain": [
       "34598"
      ]
     },
     "execution_count": 72,
     "metadata": {},
     "output_type": "execute_result"
    }
   ],
   "source": [
    "len(dfna)"
   ]
  },
  {
   "cell_type": "code",
   "execution_count": 73,
   "id": "1ebea343-c82b-4a29-9adb-dd059d6802f1",
   "metadata": {},
   "outputs": [
    {
     "data": {
      "text/plain": [
       "34602"
      ]
     },
     "execution_count": 73,
     "metadata": {},
     "output_type": "execute_result"
    }
   ],
   "source": [
    "len(df)"
   ]
  },
  {
   "cell_type": "code",
   "execution_count": 74,
   "id": "9e61d836-9136-4133-913c-8a2d08416b08",
   "metadata": {},
   "outputs": [
    {
     "data": {
      "text/plain": [
       "1.0"
      ]
     },
     "execution_count": 74,
     "metadata": {},
     "output_type": "execute_result"
    }
   ],
   "source": [
    "df['FG_PCT'].max()"
   ]
  },
  {
   "cell_type": "code",
   "execution_count": 75,
   "id": "46df80be-54a5-4811-bd45-b45cc747dea6",
   "metadata": {},
   "outputs": [],
   "source": [
    "columns_to_drop = ['GAME_ID', 'TEAM_ID', 'TEAM_NAME', 'TEAM_ABBREVIATION', 'TEAM_CITY', 'MIN', 'FGM', 'FG3M', 'FG3A', 'FG3_PCT', 'FTM', 'FT_PCT', 'OREB', 'DREB', 'PF', 'PLUS_MINUS']"
   ]
  },
  {
   "cell_type": "code",
   "execution_count": 76,
   "id": "aa0d0806-d70a-497e-8901-0d5b2c75d97a",
   "metadata": {},
   "outputs": [],
   "source": [
    "df =  df.drop(columns = columns_to_drop)"
   ]
  },
  {
   "cell_type": "code",
   "execution_count": 77,
   "id": "2b400d54-6cb7-4bbd-ab1e-5cba5b13148f",
   "metadata": {},
   "outputs": [
    {
     "data": {
      "text/plain": [
       "Index(['player', 'team', 'mp', 'PTS', 'REB', 'AST', 'STL', 'BLK', 'TO', 'FGA',\n",
       "       'FTA', 'FG_PCT', 'game_date', 'team_score', 'opponent_score', 'TS%',\n",
       "       'TOV%'],\n",
       "      dtype='object')"
      ]
     },
     "execution_count": 77,
     "metadata": {},
     "output_type": "execute_result"
    }
   ],
   "source": [
    "df.columns"
   ]
  },
  {
   "cell_type": "code",
   "execution_count": 78,
   "id": "b4f0349d-2638-4100-b5bb-2ca8f6d84b32",
   "metadata": {},
   "outputs": [
    {
     "data": {
      "text/html": [
       "<div>\n",
       "<style scoped>\n",
       "    .dataframe tbody tr th:only-of-type {\n",
       "        vertical-align: middle;\n",
       "    }\n",
       "\n",
       "    .dataframe tbody tr th {\n",
       "        vertical-align: top;\n",
       "    }\n",
       "\n",
       "    .dataframe thead th {\n",
       "        text-align: right;\n",
       "    }\n",
       "</style>\n",
       "<table border=\"1\" class=\"dataframe\">\n",
       "  <thead>\n",
       "    <tr style=\"text-align: right;\">\n",
       "      <th></th>\n",
       "      <th>player</th>\n",
       "      <th>team</th>\n",
       "      <th>mp</th>\n",
       "      <th>PTS</th>\n",
       "      <th>REB</th>\n",
       "      <th>AST</th>\n",
       "      <th>STL</th>\n",
       "      <th>BLK</th>\n",
       "      <th>TO</th>\n",
       "      <th>FGA</th>\n",
       "      <th>FTA</th>\n",
       "      <th>FG_PCT</th>\n",
       "      <th>game_date</th>\n",
       "      <th>team_score</th>\n",
       "      <th>opponent_score</th>\n",
       "      <th>TS%</th>\n",
       "      <th>TOV%</th>\n",
       "    </tr>\n",
       "  </thead>\n",
       "  <tbody>\n",
       "    <tr>\n",
       "      <th>0</th>\n",
       "      <td>Max Strus</td>\n",
       "      <td>CLE</td>\n",
       "      <td>28.283333</td>\n",
       "      <td>10.0</td>\n",
       "      <td>1.0</td>\n",
       "      <td>0.0</td>\n",
       "      <td>1.0</td>\n",
       "      <td>1.0</td>\n",
       "      <td>1.0</td>\n",
       "      <td>9.0</td>\n",
       "      <td>2.0</td>\n",
       "      <td>0.444</td>\n",
       "      <td>2023-11-03</td>\n",
       "      <td>116.0</td>\n",
       "      <td>121.0</td>\n",
       "      <td>0.506073</td>\n",
       "      <td>0.091912</td>\n",
       "    </tr>\n",
       "    <tr>\n",
       "      <th>1</th>\n",
       "      <td>Evan Mobley</td>\n",
       "      <td>CLE</td>\n",
       "      <td>35.850000</td>\n",
       "      <td>14.0</td>\n",
       "      <td>10.0</td>\n",
       "      <td>5.0</td>\n",
       "      <td>3.0</td>\n",
       "      <td>4.0</td>\n",
       "      <td>2.0</td>\n",
       "      <td>13.0</td>\n",
       "      <td>0.0</td>\n",
       "      <td>0.538</td>\n",
       "      <td>2023-11-03</td>\n",
       "      <td>116.0</td>\n",
       "      <td>121.0</td>\n",
       "      <td>0.538462</td>\n",
       "      <td>0.133333</td>\n",
       "    </tr>\n",
       "    <tr>\n",
       "      <th>2</th>\n",
       "      <td>Jarrett Allen</td>\n",
       "      <td>CLE</td>\n",
       "      <td>21.116667</td>\n",
       "      <td>10.0</td>\n",
       "      <td>7.0</td>\n",
       "      <td>0.0</td>\n",
       "      <td>1.0</td>\n",
       "      <td>2.0</td>\n",
       "      <td>1.0</td>\n",
       "      <td>6.0</td>\n",
       "      <td>3.0</td>\n",
       "      <td>0.667</td>\n",
       "      <td>2023-11-03</td>\n",
       "      <td>116.0</td>\n",
       "      <td>121.0</td>\n",
       "      <td>0.683060</td>\n",
       "      <td>0.120192</td>\n",
       "    </tr>\n",
       "    <tr>\n",
       "      <th>3</th>\n",
       "      <td>Donovan Mitchell</td>\n",
       "      <td>CLE</td>\n",
       "      <td>36.650000</td>\n",
       "      <td>38.0</td>\n",
       "      <td>5.0</td>\n",
       "      <td>9.0</td>\n",
       "      <td>1.0</td>\n",
       "      <td>0.0</td>\n",
       "      <td>3.0</td>\n",
       "      <td>21.0</td>\n",
       "      <td>10.0</td>\n",
       "      <td>0.619</td>\n",
       "      <td>2023-11-03</td>\n",
       "      <td>116.0</td>\n",
       "      <td>121.0</td>\n",
       "      <td>0.748031</td>\n",
       "      <td>0.105634</td>\n",
       "    </tr>\n",
       "    <tr>\n",
       "      <th>4</th>\n",
       "      <td>Darius Garland</td>\n",
       "      <td>CLE</td>\n",
       "      <td>31.983333</td>\n",
       "      <td>14.0</td>\n",
       "      <td>0.0</td>\n",
       "      <td>6.0</td>\n",
       "      <td>2.0</td>\n",
       "      <td>1.0</td>\n",
       "      <td>4.0</td>\n",
       "      <td>11.0</td>\n",
       "      <td>4.0</td>\n",
       "      <td>0.455</td>\n",
       "      <td>2023-11-03</td>\n",
       "      <td>116.0</td>\n",
       "      <td>121.0</td>\n",
       "      <td>0.548589</td>\n",
       "      <td>0.238663</td>\n",
       "    </tr>\n",
       "  </tbody>\n",
       "</table>\n",
       "</div>"
      ],
      "text/plain": [
       "             player team         mp   PTS   REB  AST  STL  BLK   TO   FGA  \\\n",
       "0         Max Strus  CLE  28.283333  10.0   1.0  0.0  1.0  1.0  1.0   9.0   \n",
       "1       Evan Mobley  CLE  35.850000  14.0  10.0  5.0  3.0  4.0  2.0  13.0   \n",
       "2     Jarrett Allen  CLE  21.116667  10.0   7.0  0.0  1.0  2.0  1.0   6.0   \n",
       "3  Donovan Mitchell  CLE  36.650000  38.0   5.0  9.0  1.0  0.0  3.0  21.0   \n",
       "4    Darius Garland  CLE  31.983333  14.0   0.0  6.0  2.0  1.0  4.0  11.0   \n",
       "\n",
       "    FTA  FG_PCT   game_date  team_score  opponent_score       TS%      TOV%  \n",
       "0   2.0   0.444  2023-11-03       116.0           121.0  0.506073  0.091912  \n",
       "1   0.0   0.538  2023-11-03       116.0           121.0  0.538462  0.133333  \n",
       "2   3.0   0.667  2023-11-03       116.0           121.0  0.683060  0.120192  \n",
       "3  10.0   0.619  2023-11-03       116.0           121.0  0.748031  0.105634  \n",
       "4   4.0   0.455  2023-11-03       116.0           121.0  0.548589  0.238663  "
      ]
     },
     "execution_count": 78,
     "metadata": {},
     "output_type": "execute_result"
    }
   ],
   "source": [
    "df.head()"
   ]
  },
  {
   "cell_type": "code",
   "execution_count": 79,
   "id": "6386d2d2-81fc-41b0-bf0a-28991992d9d2",
   "metadata": {},
   "outputs": [],
   "source": [
    "sigle = df['team'].unique()"
   ]
  },
  {
   "cell_type": "code",
   "execution_count": 80,
   "id": "122087aa-0b36-4e03-8fa0-885b477dcf4f",
   "metadata": {},
   "outputs": [
    {
     "data": {
      "text/plain": [
       "array(['CLE', 'IND', 'NYK', 'MIL', 'WAS', 'MIA', 'BKN', 'CHI', 'GSW',\n",
       "       'OKC', 'DAL', 'DEN', 'MEM', 'POR', 'PHI', 'DET', 'CHA', 'BOS',\n",
       "       'NOP', 'HOU', 'UTA', 'MIN', 'SAS', 'LAC', 'LAL', 'PHX', 'SAC',\n",
       "       'ATL', 'ORL', 'TOR', nan], dtype=object)"
      ]
     },
     "execution_count": 80,
     "metadata": {},
     "output_type": "execute_result"
    }
   ],
   "source": [
    "sigle"
   ]
  },
  {
   "cell_type": "code",
   "execution_count": 81,
   "id": "f6798f84-697a-444a-91cb-8ed5c64c3d7a",
   "metadata": {},
   "outputs": [],
   "source": [
    "dfna = df.isna()"
   ]
  },
  {
   "cell_type": "code",
   "execution_count": 83,
   "id": "b3739fcd-1cb8-49b2-b171-1a02f1d37cf8",
   "metadata": {},
   "outputs": [
    {
     "data": {
      "text/html": [
       "<div>\n",
       "<style scoped>\n",
       "    .dataframe tbody tr th:only-of-type {\n",
       "        vertical-align: middle;\n",
       "    }\n",
       "\n",
       "    .dataframe tbody tr th {\n",
       "        vertical-align: top;\n",
       "    }\n",
       "\n",
       "    .dataframe thead th {\n",
       "        text-align: right;\n",
       "    }\n",
       "</style>\n",
       "<table border=\"1\" class=\"dataframe\">\n",
       "  <thead>\n",
       "    <tr style=\"text-align: right;\">\n",
       "      <th></th>\n",
       "      <th>player</th>\n",
       "      <th>team</th>\n",
       "      <th>mp</th>\n",
       "      <th>PTS</th>\n",
       "      <th>REB</th>\n",
       "      <th>AST</th>\n",
       "      <th>STL</th>\n",
       "      <th>BLK</th>\n",
       "      <th>TO</th>\n",
       "      <th>FGA</th>\n",
       "      <th>FTA</th>\n",
       "      <th>FG_PCT</th>\n",
       "      <th>game_date</th>\n",
       "      <th>team_score</th>\n",
       "      <th>opponent_score</th>\n",
       "      <th>TS%</th>\n",
       "      <th>TOV%</th>\n",
       "    </tr>\n",
       "  </thead>\n",
       "  <tbody>\n",
       "    <tr>\n",
       "      <th>32443</th>\n",
       "      <td>True</td>\n",
       "      <td>True</td>\n",
       "      <td>True</td>\n",
       "      <td>False</td>\n",
       "      <td>False</td>\n",
       "      <td>False</td>\n",
       "      <td>False</td>\n",
       "      <td>False</td>\n",
       "      <td>False</td>\n",
       "      <td>False</td>\n",
       "      <td>False</td>\n",
       "      <td>False</td>\n",
       "      <td>True</td>\n",
       "      <td>True</td>\n",
       "      <td>True</td>\n",
       "      <td>True</td>\n",
       "      <td>True</td>\n",
       "    </tr>\n",
       "    <tr>\n",
       "      <th>32444</th>\n",
       "      <td>True</td>\n",
       "      <td>True</td>\n",
       "      <td>True</td>\n",
       "      <td>False</td>\n",
       "      <td>False</td>\n",
       "      <td>False</td>\n",
       "      <td>False</td>\n",
       "      <td>False</td>\n",
       "      <td>False</td>\n",
       "      <td>False</td>\n",
       "      <td>False</td>\n",
       "      <td>False</td>\n",
       "      <td>True</td>\n",
       "      <td>True</td>\n",
       "      <td>True</td>\n",
       "      <td>True</td>\n",
       "      <td>True</td>\n",
       "    </tr>\n",
       "    <tr>\n",
       "      <th>32614</th>\n",
       "      <td>True</td>\n",
       "      <td>True</td>\n",
       "      <td>True</td>\n",
       "      <td>False</td>\n",
       "      <td>False</td>\n",
       "      <td>False</td>\n",
       "      <td>False</td>\n",
       "      <td>False</td>\n",
       "      <td>False</td>\n",
       "      <td>False</td>\n",
       "      <td>False</td>\n",
       "      <td>False</td>\n",
       "      <td>True</td>\n",
       "      <td>True</td>\n",
       "      <td>True</td>\n",
       "      <td>True</td>\n",
       "      <td>True</td>\n",
       "    </tr>\n",
       "    <tr>\n",
       "      <th>32615</th>\n",
       "      <td>True</td>\n",
       "      <td>True</td>\n",
       "      <td>True</td>\n",
       "      <td>False</td>\n",
       "      <td>False</td>\n",
       "      <td>False</td>\n",
       "      <td>False</td>\n",
       "      <td>False</td>\n",
       "      <td>False</td>\n",
       "      <td>False</td>\n",
       "      <td>False</td>\n",
       "      <td>False</td>\n",
       "      <td>True</td>\n",
       "      <td>True</td>\n",
       "      <td>True</td>\n",
       "      <td>True</td>\n",
       "      <td>True</td>\n",
       "    </tr>\n",
       "  </tbody>\n",
       "</table>\n",
       "</div>"
      ],
      "text/plain": [
       "       player  team    mp    PTS    REB    AST    STL    BLK     TO    FGA  \\\n",
       "32443    True  True  True  False  False  False  False  False  False  False   \n",
       "32444    True  True  True  False  False  False  False  False  False  False   \n",
       "32614    True  True  True  False  False  False  False  False  False  False   \n",
       "32615    True  True  True  False  False  False  False  False  False  False   \n",
       "\n",
       "         FTA  FG_PCT  game_date  team_score  opponent_score   TS%  TOV%  \n",
       "32443  False   False       True        True            True  True  True  \n",
       "32444  False   False       True        True            True  True  True  \n",
       "32614  False   False       True        True            True  True  True  \n",
       "32615  False   False       True        True            True  True  True  "
      ]
     },
     "execution_count": 83,
     "metadata": {},
     "output_type": "execute_result"
    }
   ],
   "source": [
    "dfna[dfna['team'] == True]"
   ]
  },
  {
   "cell_type": "code",
   "execution_count": 85,
   "id": "187e94fc-0f5c-4321-8464-969e5f24120c",
   "metadata": {},
   "outputs": [],
   "source": [
    "df = df.drop(index=[32443, 32444, 32614, 32615])"
   ]
  },
  {
   "cell_type": "code",
   "execution_count": 98,
   "id": "d8393aa3-bfe9-4957-aee5-8ceb20ca1a94",
   "metadata": {},
   "outputs": [],
   "source": [
    "sigle = df['team'].unique()"
   ]
  },
  {
   "cell_type": "code",
   "execution_count": 99,
   "id": "c399879f-12df-42a1-8550-5b4e1d827c8b",
   "metadata": {},
   "outputs": [
    {
     "data": {
      "text/plain": [
       "array(['CLE', 'IND', 'NYK', 'MIL', 'WAS', 'MIA', 'BKN', 'CHI', 'GSW',\n",
       "       'OKC', 'DAL', 'DEN', 'MEM', 'POR', 'PHI', 'DET', 'CHA', 'BOS',\n",
       "       'NOP', 'HOU', 'UTA', 'MIN', 'SAS', 'LAC', 'LAL', 'PHX', 'SAC',\n",
       "       'ATL', 'ORL', 'TOR'], dtype=object)"
      ]
     },
     "execution_count": 99,
     "metadata": {},
     "output_type": "execute_result"
    }
   ],
   "source": [
    "sigle"
   ]
  },
  {
   "cell_type": "code",
   "execution_count": 86,
   "id": "c078eb57-98d5-457f-992c-cb418c9d53f6",
   "metadata": {},
   "outputs": [],
   "source": [
    "infortuni = pd.read_csv(\"C:\\\\Users\\\\enric\\\\OneDrive\\\\Desktop\\\\UNI\\\\Data Management Lab\\\\basketball_transactions.csv\")"
   ]
  },
  {
   "cell_type": "code",
   "execution_count": 87,
   "id": "ddb96039-d04d-46d2-86ab-78179bdee783",
   "metadata": {},
   "outputs": [
    {
     "data": {
      "text/html": [
       "<div>\n",
       "<style scoped>\n",
       "    .dataframe tbody tr th:only-of-type {\n",
       "        vertical-align: middle;\n",
       "    }\n",
       "\n",
       "    .dataframe tbody tr th {\n",
       "        vertical-align: top;\n",
       "    }\n",
       "\n",
       "    .dataframe thead th {\n",
       "        text-align: right;\n",
       "    }\n",
       "</style>\n",
       "<table border=\"1\" class=\"dataframe\">\n",
       "  <thead>\n",
       "    <tr style=\"text-align: right;\">\n",
       "      <th></th>\n",
       "      <th>Date</th>\n",
       "      <th>Team</th>\n",
       "      <th>Acquired</th>\n",
       "      <th>Relinquished</th>\n",
       "      <th>Notes</th>\n",
       "    </tr>\n",
       "  </thead>\n",
       "  <tbody>\n",
       "    <tr>\n",
       "      <th>0</th>\n",
       "      <td>2023-04-29</td>\n",
       "      <td>Warriors</td>\n",
       "      <td>NaN</td>\n",
       "      <td>• Patrick Baldwin Jr.</td>\n",
       "      <td>placed on IL with toe injury</td>\n",
       "    </tr>\n",
       "    <tr>\n",
       "      <th>1</th>\n",
       "      <td>2023-04-30</td>\n",
       "      <td>76ers</td>\n",
       "      <td>• Danuel House Jr.</td>\n",
       "      <td>NaN</td>\n",
       "      <td>activated from IL</td>\n",
       "    </tr>\n",
       "    <tr>\n",
       "      <th>2</th>\n",
       "      <td>2023-05-02</td>\n",
       "      <td>Heat</td>\n",
       "      <td>NaN</td>\n",
       "      <td>• Jimmy Butler</td>\n",
       "      <td>placed on IL with sprained right ankle</td>\n",
       "    </tr>\n",
       "    <tr>\n",
       "      <th>3</th>\n",
       "      <td>2023-05-03</td>\n",
       "      <td>76ers</td>\n",
       "      <td>• Joel Embiid</td>\n",
       "      <td>NaN</td>\n",
       "      <td>activated from IL</td>\n",
       "    </tr>\n",
       "    <tr>\n",
       "      <th>4</th>\n",
       "      <td>2023-05-05</td>\n",
       "      <td>Celtics</td>\n",
       "      <td>NaN</td>\n",
       "      <td>• Blake Griffin</td>\n",
       "      <td>placed on IL with sore lower back</td>\n",
       "    </tr>\n",
       "  </tbody>\n",
       "</table>\n",
       "</div>"
      ],
      "text/plain": [
       "         Date      Team            Acquired           Relinquished  \\\n",
       "0  2023-04-29  Warriors                 NaN  • Patrick Baldwin Jr.   \n",
       "1  2023-04-30     76ers  • Danuel House Jr.                    NaN   \n",
       "2  2023-05-02      Heat                 NaN         • Jimmy Butler   \n",
       "3  2023-05-03     76ers       • Joel Embiid                    NaN   \n",
       "4  2023-05-05   Celtics                 NaN        • Blake Griffin   \n",
       "\n",
       "                                    Notes  \n",
       "0            placed on IL with toe injury  \n",
       "1                       activated from IL  \n",
       "2  placed on IL with sprained right ankle  \n",
       "3                       activated from IL  \n",
       "4       placed on IL with sore lower back  "
      ]
     },
     "execution_count": 87,
     "metadata": {},
     "output_type": "execute_result"
    }
   ],
   "source": [
    "infortuni.head()"
   ]
  },
  {
   "cell_type": "code",
   "execution_count": 88,
   "id": "268c34b1-6411-4e95-93df-da7cd761d7dc",
   "metadata": {},
   "outputs": [],
   "source": [
    "squadre = infortuni['Team'].unique()"
   ]
  },
  {
   "cell_type": "code",
   "execution_count": 89,
   "id": "f2506a02-1dea-4664-b74a-57564dd256ea",
   "metadata": {},
   "outputs": [
    {
     "data": {
      "text/plain": [
       "array(['Warriors', '76ers', 'Heat', 'Celtics', 'Knicks', 'Bulls', 'Suns',\n",
       "       'Pelicans', 'Hornets', 'Grizzlies', 'Rockets', 'Cavaliers',\n",
       "       'Clippers', 'Kings', 'Pistons', 'Thunder', 'Timberwolves',\n",
       "       'Wizards', 'Blazers', 'Hawks', 'Nets', 'Bucks', 'Raptors',\n",
       "       'Lakers', 'Mavericks', 'Pacers', 'Spurs', 'Magic', 'Nuggets',\n",
       "       'Jazz'], dtype=object)"
      ]
     },
     "execution_count": 89,
     "metadata": {},
     "output_type": "execute_result"
    }
   ],
   "source": [
    "squadre"
   ]
  },
  {
   "cell_type": "code",
   "execution_count": 100,
   "id": "9b458be6-f9ae-4465-a92b-88ef00cbde81",
   "metadata": {},
   "outputs": [
    {
     "data": {
      "text/plain": [
       "array(['CLE', 'IND', 'NYK', 'MIL', 'WAS', 'MIA', 'BKN', 'CHI', 'GSW',\n",
       "       'OKC', 'DAL', 'DEN', 'MEM', 'POR', 'PHI', 'DET', 'CHA', 'BOS',\n",
       "       'NOP', 'HOU', 'UTA', 'MIN', 'SAS', 'LAC', 'LAL', 'PHX', 'SAC',\n",
       "       'ATL', 'ORL', 'TOR'], dtype=object)"
      ]
     },
     "execution_count": 100,
     "metadata": {},
     "output_type": "execute_result"
    }
   ],
   "source": [
    "sigle"
   ]
  },
  {
   "cell_type": "code",
   "execution_count": 101,
   "id": "4a24aeed-8b35-449d-b92f-ba1fc464dfb7",
   "metadata": {},
   "outputs": [],
   "source": [
    "sigla_to_nome = {\n",
    "    'CLE': 'Cavaliers',\n",
    "    'IND': 'Pacers',\n",
    "    'NYK': 'Knicks',\n",
    "    'MIL': 'Bucks',\n",
    "    'WAS': 'Wizards',\n",
    "    'MIA': 'Heat',\n",
    "    'BKN': 'Nets',\n",
    "    'CHI': 'Bulls',\n",
    "    'GSW': 'Warriors',\n",
    "    'OKC': 'Thunder',\n",
    "    'DAL': 'Mavericks',\n",
    "    'DEN': 'Nuggets',\n",
    "    'MEM': 'Grizzlies',\n",
    "    'POR': 'Blazers',\n",
    "    'PHI': '76ers',\n",
    "    'DET': 'Pistons',\n",
    "    'CHA': 'Hornets',\n",
    "    'BOS': 'Celtics',\n",
    "    'NOP': 'Pelicans',\n",
    "    'HOU': 'Rockets',\n",
    "    'UTA': 'Jazz',\n",
    "    'MIN': 'Timberwolves',\n",
    "    'SAS': 'Spurs',\n",
    "    'LAC': 'Clippers',\n",
    "    'LAL': 'Lakers',\n",
    "    'PHX': 'Suns',\n",
    "    'SAC': 'Kings',\n",
    "    'ATL': 'Hawks',\n",
    "    'ORL': 'Magic',\n",
    "    'TOR': 'Raptors'\n",
    "}\n",
    "\n",
    "df['team'] = df['team'].map(sigla_to_nome)"
   ]
  },
  {
   "cell_type": "code",
   "execution_count": 102,
   "id": "956031ee-4054-4688-b990-29a83f5b4531",
   "metadata": {},
   "outputs": [
    {
     "data": {
      "text/plain": [
       "array(['Cavaliers', 'Pacers', 'Knicks', 'Bucks', 'Wizards', 'Heat',\n",
       "       'Nets', 'Bulls', 'Warriors', 'Thunder', 'Mavericks', 'Nuggets',\n",
       "       'Grizzlies', 'Blazers', '76ers', 'Pistons', 'Hornets', 'Celtics',\n",
       "       'Pelicans', 'Rockets', 'Jazz', 'Timberwolves', 'Spurs', 'Clippers',\n",
       "       'Lakers', 'Suns', 'Kings', 'Hawks', 'Magic', 'Raptors'],\n",
       "      dtype=object)"
      ]
     },
     "execution_count": 102,
     "metadata": {},
     "output_type": "execute_result"
    }
   ],
   "source": [
    "df['team'].unique()"
   ]
  },
  {
   "cell_type": "code",
   "execution_count": 103,
   "id": "85523b8d-0cd4-4a6b-8dd4-b86f3f25ca46",
   "metadata": {},
   "outputs": [],
   "source": [
    "df.to_csv('dataset_completo.csv', index=False)"
   ]
  },
  {
   "cell_type": "code",
   "execution_count": null,
   "id": "35ab62b4-9e41-430a-8595-303d59f6484d",
   "metadata": {},
   "outputs": [],
   "source": []
  }
 ],
 "metadata": {
  "kernelspec": {
   "display_name": "Python 3 (ipykernel)",
   "language": "python",
   "name": "python3"
  },
  "language_info": {
   "codemirror_mode": {
    "name": "ipython",
    "version": 3
   },
   "file_extension": ".py",
   "mimetype": "text/x-python",
   "name": "python",
   "nbconvert_exporter": "python",
   "pygments_lexer": "ipython3",
   "version": "3.11.7"
  }
 },
 "nbformat": 4,
 "nbformat_minor": 5
}
